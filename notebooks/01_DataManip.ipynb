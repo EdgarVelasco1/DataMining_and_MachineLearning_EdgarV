{
 "cells": [
  {
   "cell_type": "code",
   "execution_count": null,
   "outputs": [],
   "source": [],
   "metadata": {
    "collapsed": false
   }
  },
  {
   "cell_type": "code",
   "execution_count": 1,
   "outputs": [],
   "source": [
    "import pandas as pd"
   ],
   "metadata": {
    "collapsed": false
   }
  },
  {
   "cell_type": "code",
   "execution_count": 9,
   "outputs": [
    {
     "data": {
      "text/plain": "      0  1   2  3      4       5      6     7      8      9     10 11 12\n0     11  0  71  0  0.260       9  4.600    14      1      1  name  1  0\n1     19  0  72  0  0.380       6  4.100    14  1.700  0.588  name  1  0\n2     16  0  55  0  0.260       4  3.420    14      1      1  name  1  0\n3     57  0  60  0  0.253  12.062  4.603    16  1.450  0.788  name  1  0\n4     19  1  57  0  0.160      22  5.750    18  2.250  0.571  name  1  0\n..   ... ..  .. ..    ...     ...    ...   ...    ...    ...   ... .. ..\n127  7.5  1  64  0   0.24    12.9   4.72    12      1  0.857  name  ?  ?\n128   41  0  64  0   0.28    5.40   5.47    11   1.10  0.714  name  ?  ?\n129   36  0  69  0   0.20    7.00   5.05  14.5   1.21  0.857  name  ?  ?\n130   22  0  57  0   0.14    16.1   4.36    15   1.36  0.786  name  ?  ?\n131   20  0  62  0   0.15       0   4.51  15.5  1.409  0.786  name  ?  ?\n\n[132 rows x 13 columns]",
      "text/html": "<div>\n<style scoped>\n    .dataframe tbody tr th:only-of-type {\n        vertical-align: middle;\n    }\n\n    .dataframe tbody tr th {\n        vertical-align: top;\n    }\n\n    .dataframe thead th {\n        text-align: right;\n    }\n</style>\n<table border=\"1\" class=\"dataframe\">\n  <thead>\n    <tr style=\"text-align: right;\">\n      <th></th>\n      <th>0</th>\n      <th>1</th>\n      <th>2</th>\n      <th>3</th>\n      <th>4</th>\n      <th>5</th>\n      <th>6</th>\n      <th>7</th>\n      <th>8</th>\n      <th>9</th>\n      <th>10</th>\n      <th>11</th>\n      <th>12</th>\n    </tr>\n  </thead>\n  <tbody>\n    <tr>\n      <th>0</th>\n      <td>11</td>\n      <td>0</td>\n      <td>71</td>\n      <td>0</td>\n      <td>0.260</td>\n      <td>9</td>\n      <td>4.600</td>\n      <td>14</td>\n      <td>1</td>\n      <td>1</td>\n      <td>name</td>\n      <td>1</td>\n      <td>0</td>\n    </tr>\n    <tr>\n      <th>1</th>\n      <td>19</td>\n      <td>0</td>\n      <td>72</td>\n      <td>0</td>\n      <td>0.380</td>\n      <td>6</td>\n      <td>4.100</td>\n      <td>14</td>\n      <td>1.700</td>\n      <td>0.588</td>\n      <td>name</td>\n      <td>1</td>\n      <td>0</td>\n    </tr>\n    <tr>\n      <th>2</th>\n      <td>16</td>\n      <td>0</td>\n      <td>55</td>\n      <td>0</td>\n      <td>0.260</td>\n      <td>4</td>\n      <td>3.420</td>\n      <td>14</td>\n      <td>1</td>\n      <td>1</td>\n      <td>name</td>\n      <td>1</td>\n      <td>0</td>\n    </tr>\n    <tr>\n      <th>3</th>\n      <td>57</td>\n      <td>0</td>\n      <td>60</td>\n      <td>0</td>\n      <td>0.253</td>\n      <td>12.062</td>\n      <td>4.603</td>\n      <td>16</td>\n      <td>1.450</td>\n      <td>0.788</td>\n      <td>name</td>\n      <td>1</td>\n      <td>0</td>\n    </tr>\n    <tr>\n      <th>4</th>\n      <td>19</td>\n      <td>1</td>\n      <td>57</td>\n      <td>0</td>\n      <td>0.160</td>\n      <td>22</td>\n      <td>5.750</td>\n      <td>18</td>\n      <td>2.250</td>\n      <td>0.571</td>\n      <td>name</td>\n      <td>1</td>\n      <td>0</td>\n    </tr>\n    <tr>\n      <th>...</th>\n      <td>...</td>\n      <td>...</td>\n      <td>...</td>\n      <td>...</td>\n      <td>...</td>\n      <td>...</td>\n      <td>...</td>\n      <td>...</td>\n      <td>...</td>\n      <td>...</td>\n      <td>...</td>\n      <td>...</td>\n      <td>...</td>\n    </tr>\n    <tr>\n      <th>127</th>\n      <td>7.5</td>\n      <td>1</td>\n      <td>64</td>\n      <td>0</td>\n      <td>0.24</td>\n      <td>12.9</td>\n      <td>4.72</td>\n      <td>12</td>\n      <td>1</td>\n      <td>0.857</td>\n      <td>name</td>\n      <td>?</td>\n      <td>?</td>\n    </tr>\n    <tr>\n      <th>128</th>\n      <td>41</td>\n      <td>0</td>\n      <td>64</td>\n      <td>0</td>\n      <td>0.28</td>\n      <td>5.40</td>\n      <td>5.47</td>\n      <td>11</td>\n      <td>1.10</td>\n      <td>0.714</td>\n      <td>name</td>\n      <td>?</td>\n      <td>?</td>\n    </tr>\n    <tr>\n      <th>129</th>\n      <td>36</td>\n      <td>0</td>\n      <td>69</td>\n      <td>0</td>\n      <td>0.20</td>\n      <td>7.00</td>\n      <td>5.05</td>\n      <td>14.5</td>\n      <td>1.21</td>\n      <td>0.857</td>\n      <td>name</td>\n      <td>?</td>\n      <td>?</td>\n    </tr>\n    <tr>\n      <th>130</th>\n      <td>22</td>\n      <td>0</td>\n      <td>57</td>\n      <td>0</td>\n      <td>0.14</td>\n      <td>16.1</td>\n      <td>4.36</td>\n      <td>15</td>\n      <td>1.36</td>\n      <td>0.786</td>\n      <td>name</td>\n      <td>?</td>\n      <td>?</td>\n    </tr>\n    <tr>\n      <th>131</th>\n      <td>20</td>\n      <td>0</td>\n      <td>62</td>\n      <td>0</td>\n      <td>0.15</td>\n      <td>0</td>\n      <td>4.51</td>\n      <td>15.5</td>\n      <td>1.409</td>\n      <td>0.786</td>\n      <td>name</td>\n      <td>?</td>\n      <td>?</td>\n    </tr>\n  </tbody>\n</table>\n<p>132 rows × 13 columns</p>\n</div>"
     },
     "execution_count": 9,
     "metadata": {},
     "output_type": "execute_result"
    }
   ],
   "source": [
    "edata = pd.read_csv('C:\\\\Users\\\\ivanc\\\\PycharmProjects\\\\scientificProject\\\\data\\\\01_datamanip\\\\echocardiogram.data',sep=',',header=None)\n",
    "edata"
   ],
   "metadata": {
    "collapsed": false
   }
  },
  {
   "cell_type": "code",
   "execution_count": 11,
   "outputs": [
    {
     "data": {
      "text/plain": "    survival still-alive age-at-heart-attack pericardial-effusion  \\\n0         11           0                  71                    0   \n1         19           0                  72                    0   \n2         16           0                  55                    0   \n3         57           0                  60                    0   \n4         19           1                  57                    0   \n..       ...         ...                 ...                  ...   \n127      7.5           1                  64                    0   \n128       41           0                  64                    0   \n129       36           0                  69                    0   \n130       22           0                  57                    0   \n131       20           0                  62                    0   \n\n    fractional-shortening    epss   lvdd wall-motion-score wall-motion-index  \\\n0                   0.260       9  4.600                14                 1   \n1                   0.380       6  4.100                14             1.700   \n2                   0.260       4  3.420                14                 1   \n3                   0.253  12.062  4.603                16             1.450   \n4                   0.160      22  5.750                18             2.250   \n..                    ...     ...    ...               ...               ...   \n127                  0.24    12.9   4.72                12                 1   \n128                  0.28    5.40   5.47                11              1.10   \n129                  0.20    7.00   5.05              14.5              1.21   \n130                  0.14    16.1   4.36                15              1.36   \n131                  0.15       0   4.51              15.5             1.409   \n\n      mult  name group alive-at-1  \n0        1  name     1          0  \n1    0.588  name     1          0  \n2        1  name     1          0  \n3    0.788  name     1          0  \n4    0.571  name     1          0  \n..     ...   ...   ...        ...  \n127  0.857  name     ?          ?  \n128  0.714  name     ?          ?  \n129  0.857  name     ?          ?  \n130  0.786  name     ?          ?  \n131  0.786  name     ?          ?  \n\n[132 rows x 13 columns]",
      "text/html": "<div>\n<style scoped>\n    .dataframe tbody tr th:only-of-type {\n        vertical-align: middle;\n    }\n\n    .dataframe tbody tr th {\n        vertical-align: top;\n    }\n\n    .dataframe thead th {\n        text-align: right;\n    }\n</style>\n<table border=\"1\" class=\"dataframe\">\n  <thead>\n    <tr style=\"text-align: right;\">\n      <th></th>\n      <th>survival</th>\n      <th>still-alive</th>\n      <th>age-at-heart-attack</th>\n      <th>pericardial-effusion</th>\n      <th>fractional-shortening</th>\n      <th>epss</th>\n      <th>lvdd</th>\n      <th>wall-motion-score</th>\n      <th>wall-motion-index</th>\n      <th>mult</th>\n      <th>name</th>\n      <th>group</th>\n      <th>alive-at-1</th>\n    </tr>\n  </thead>\n  <tbody>\n    <tr>\n      <th>0</th>\n      <td>11</td>\n      <td>0</td>\n      <td>71</td>\n      <td>0</td>\n      <td>0.260</td>\n      <td>9</td>\n      <td>4.600</td>\n      <td>14</td>\n      <td>1</td>\n      <td>1</td>\n      <td>name</td>\n      <td>1</td>\n      <td>0</td>\n    </tr>\n    <tr>\n      <th>1</th>\n      <td>19</td>\n      <td>0</td>\n      <td>72</td>\n      <td>0</td>\n      <td>0.380</td>\n      <td>6</td>\n      <td>4.100</td>\n      <td>14</td>\n      <td>1.700</td>\n      <td>0.588</td>\n      <td>name</td>\n      <td>1</td>\n      <td>0</td>\n    </tr>\n    <tr>\n      <th>2</th>\n      <td>16</td>\n      <td>0</td>\n      <td>55</td>\n      <td>0</td>\n      <td>0.260</td>\n      <td>4</td>\n      <td>3.420</td>\n      <td>14</td>\n      <td>1</td>\n      <td>1</td>\n      <td>name</td>\n      <td>1</td>\n      <td>0</td>\n    </tr>\n    <tr>\n      <th>3</th>\n      <td>57</td>\n      <td>0</td>\n      <td>60</td>\n      <td>0</td>\n      <td>0.253</td>\n      <td>12.062</td>\n      <td>4.603</td>\n      <td>16</td>\n      <td>1.450</td>\n      <td>0.788</td>\n      <td>name</td>\n      <td>1</td>\n      <td>0</td>\n    </tr>\n    <tr>\n      <th>4</th>\n      <td>19</td>\n      <td>1</td>\n      <td>57</td>\n      <td>0</td>\n      <td>0.160</td>\n      <td>22</td>\n      <td>5.750</td>\n      <td>18</td>\n      <td>2.250</td>\n      <td>0.571</td>\n      <td>name</td>\n      <td>1</td>\n      <td>0</td>\n    </tr>\n    <tr>\n      <th>...</th>\n      <td>...</td>\n      <td>...</td>\n      <td>...</td>\n      <td>...</td>\n      <td>...</td>\n      <td>...</td>\n      <td>...</td>\n      <td>...</td>\n      <td>...</td>\n      <td>...</td>\n      <td>...</td>\n      <td>...</td>\n      <td>...</td>\n    </tr>\n    <tr>\n      <th>127</th>\n      <td>7.5</td>\n      <td>1</td>\n      <td>64</td>\n      <td>0</td>\n      <td>0.24</td>\n      <td>12.9</td>\n      <td>4.72</td>\n      <td>12</td>\n      <td>1</td>\n      <td>0.857</td>\n      <td>name</td>\n      <td>?</td>\n      <td>?</td>\n    </tr>\n    <tr>\n      <th>128</th>\n      <td>41</td>\n      <td>0</td>\n      <td>64</td>\n      <td>0</td>\n      <td>0.28</td>\n      <td>5.40</td>\n      <td>5.47</td>\n      <td>11</td>\n      <td>1.10</td>\n      <td>0.714</td>\n      <td>name</td>\n      <td>?</td>\n      <td>?</td>\n    </tr>\n    <tr>\n      <th>129</th>\n      <td>36</td>\n      <td>0</td>\n      <td>69</td>\n      <td>0</td>\n      <td>0.20</td>\n      <td>7.00</td>\n      <td>5.05</td>\n      <td>14.5</td>\n      <td>1.21</td>\n      <td>0.857</td>\n      <td>name</td>\n      <td>?</td>\n      <td>?</td>\n    </tr>\n    <tr>\n      <th>130</th>\n      <td>22</td>\n      <td>0</td>\n      <td>57</td>\n      <td>0</td>\n      <td>0.14</td>\n      <td>16.1</td>\n      <td>4.36</td>\n      <td>15</td>\n      <td>1.36</td>\n      <td>0.786</td>\n      <td>name</td>\n      <td>?</td>\n      <td>?</td>\n    </tr>\n    <tr>\n      <th>131</th>\n      <td>20</td>\n      <td>0</td>\n      <td>62</td>\n      <td>0</td>\n      <td>0.15</td>\n      <td>0</td>\n      <td>4.51</td>\n      <td>15.5</td>\n      <td>1.409</td>\n      <td>0.786</td>\n      <td>name</td>\n      <td>?</td>\n      <td>?</td>\n    </tr>\n  </tbody>\n</table>\n<p>132 rows × 13 columns</p>\n</div>"
     },
     "execution_count": 11,
     "metadata": {},
     "output_type": "execute_result"
    }
   ],
   "source": [
    "edata.columns = ['survival','still-alive','age-at-heart-attack','pericardial-effusion','fractional-shortening','epss','lvdd','wall-motion-score','wall-motion-index','mult','name','group','alive-at-1']\n",
    "edata"
   ],
   "metadata": {
    "collapsed": false
   }
  },
  {
   "cell_type": "code",
   "execution_count": 14,
   "outputs": [
    {
     "data": {
      "text/plain": "    survival still-alive age-at-heart-attack pericardial-effusion  \\\n0         11           0                  71                    0   \n1         19           0                  72                    0   \n2         16           0                  55                    0   \n3         57           0                  60                    0   \n4         19           1                  57                    0   \n..       ...         ...                 ...                  ...   \n127      7.5           1                  64                    0   \n128       41           0                  64                    0   \n129       36           0                  69                    0   \n130       22           0                  57                    0   \n131       20           0                  62                    0   \n\n    fractional-shortening    epss   lvdd wall-motion-score wall-motion-index  \\\n0                   0.260       9  4.600                14                 1   \n1                   0.380       6  4.100                14             1.700   \n2                   0.260       4  3.420                14                 1   \n3                   0.253  12.062  4.603                16             1.450   \n4                   0.160      22  5.750                18             2.250   \n..                    ...     ...    ...               ...               ...   \n127                  0.24    12.9   4.72                12                 1   \n128                  0.28    5.40   5.47                11              1.10   \n129                  0.20    7.00   5.05              14.5              1.21   \n130                  0.14    16.1   4.36                15              1.36   \n131                  0.15       0   4.51              15.5             1.409   \n\n      mult group alive-at-1  \n0        1     1          0  \n1    0.588     1          0  \n2        1     1          0  \n3    0.788     1          0  \n4    0.571     1          0  \n..     ...   ...        ...  \n127  0.857     ?          ?  \n128  0.714     ?          ?  \n129  0.857     ?          ?  \n130  0.786     ?          ?  \n131  0.786     ?          ?  \n\n[132 rows x 12 columns]",
      "text/html": "<div>\n<style scoped>\n    .dataframe tbody tr th:only-of-type {\n        vertical-align: middle;\n    }\n\n    .dataframe tbody tr th {\n        vertical-align: top;\n    }\n\n    .dataframe thead th {\n        text-align: right;\n    }\n</style>\n<table border=\"1\" class=\"dataframe\">\n  <thead>\n    <tr style=\"text-align: right;\">\n      <th></th>\n      <th>survival</th>\n      <th>still-alive</th>\n      <th>age-at-heart-attack</th>\n      <th>pericardial-effusion</th>\n      <th>fractional-shortening</th>\n      <th>epss</th>\n      <th>lvdd</th>\n      <th>wall-motion-score</th>\n      <th>wall-motion-index</th>\n      <th>mult</th>\n      <th>group</th>\n      <th>alive-at-1</th>\n    </tr>\n  </thead>\n  <tbody>\n    <tr>\n      <th>0</th>\n      <td>11</td>\n      <td>0</td>\n      <td>71</td>\n      <td>0</td>\n      <td>0.260</td>\n      <td>9</td>\n      <td>4.600</td>\n      <td>14</td>\n      <td>1</td>\n      <td>1</td>\n      <td>1</td>\n      <td>0</td>\n    </tr>\n    <tr>\n      <th>1</th>\n      <td>19</td>\n      <td>0</td>\n      <td>72</td>\n      <td>0</td>\n      <td>0.380</td>\n      <td>6</td>\n      <td>4.100</td>\n      <td>14</td>\n      <td>1.700</td>\n      <td>0.588</td>\n      <td>1</td>\n      <td>0</td>\n    </tr>\n    <tr>\n      <th>2</th>\n      <td>16</td>\n      <td>0</td>\n      <td>55</td>\n      <td>0</td>\n      <td>0.260</td>\n      <td>4</td>\n      <td>3.420</td>\n      <td>14</td>\n      <td>1</td>\n      <td>1</td>\n      <td>1</td>\n      <td>0</td>\n    </tr>\n    <tr>\n      <th>3</th>\n      <td>57</td>\n      <td>0</td>\n      <td>60</td>\n      <td>0</td>\n      <td>0.253</td>\n      <td>12.062</td>\n      <td>4.603</td>\n      <td>16</td>\n      <td>1.450</td>\n      <td>0.788</td>\n      <td>1</td>\n      <td>0</td>\n    </tr>\n    <tr>\n      <th>4</th>\n      <td>19</td>\n      <td>1</td>\n      <td>57</td>\n      <td>0</td>\n      <td>0.160</td>\n      <td>22</td>\n      <td>5.750</td>\n      <td>18</td>\n      <td>2.250</td>\n      <td>0.571</td>\n      <td>1</td>\n      <td>0</td>\n    </tr>\n    <tr>\n      <th>...</th>\n      <td>...</td>\n      <td>...</td>\n      <td>...</td>\n      <td>...</td>\n      <td>...</td>\n      <td>...</td>\n      <td>...</td>\n      <td>...</td>\n      <td>...</td>\n      <td>...</td>\n      <td>...</td>\n      <td>...</td>\n    </tr>\n    <tr>\n      <th>127</th>\n      <td>7.5</td>\n      <td>1</td>\n      <td>64</td>\n      <td>0</td>\n      <td>0.24</td>\n      <td>12.9</td>\n      <td>4.72</td>\n      <td>12</td>\n      <td>1</td>\n      <td>0.857</td>\n      <td>?</td>\n      <td>?</td>\n    </tr>\n    <tr>\n      <th>128</th>\n      <td>41</td>\n      <td>0</td>\n      <td>64</td>\n      <td>0</td>\n      <td>0.28</td>\n      <td>5.40</td>\n      <td>5.47</td>\n      <td>11</td>\n      <td>1.10</td>\n      <td>0.714</td>\n      <td>?</td>\n      <td>?</td>\n    </tr>\n    <tr>\n      <th>129</th>\n      <td>36</td>\n      <td>0</td>\n      <td>69</td>\n      <td>0</td>\n      <td>0.20</td>\n      <td>7.00</td>\n      <td>5.05</td>\n      <td>14.5</td>\n      <td>1.21</td>\n      <td>0.857</td>\n      <td>?</td>\n      <td>?</td>\n    </tr>\n    <tr>\n      <th>130</th>\n      <td>22</td>\n      <td>0</td>\n      <td>57</td>\n      <td>0</td>\n      <td>0.14</td>\n      <td>16.1</td>\n      <td>4.36</td>\n      <td>15</td>\n      <td>1.36</td>\n      <td>0.786</td>\n      <td>?</td>\n      <td>?</td>\n    </tr>\n    <tr>\n      <th>131</th>\n      <td>20</td>\n      <td>0</td>\n      <td>62</td>\n      <td>0</td>\n      <td>0.15</td>\n      <td>0</td>\n      <td>4.51</td>\n      <td>15.5</td>\n      <td>1.409</td>\n      <td>0.786</td>\n      <td>?</td>\n      <td>?</td>\n    </tr>\n  </tbody>\n</table>\n<p>132 rows × 12 columns</p>\n</div>"
     },
     "execution_count": 14,
     "metadata": {},
     "output_type": "execute_result"
    }
   ],
   "source": [
    "edata = edata.drop('name',axis=1)\n",
    "edata"
   ],
   "metadata": {
    "collapsed": false
   }
  },
  {
   "cell_type": "code",
   "execution_count": null,
   "outputs": [],
   "source": [
    "edata.t"
   ],
   "metadata": {
    "collapsed": false
   }
  }
 ],
 "metadata": {
  "kernelspec": {
   "display_name": "Python 3",
   "language": "python",
   "name": "python3"
  },
  "language_info": {
   "codemirror_mode": {
    "name": "ipython",
    "version": 2
   },
   "file_extension": ".py",
   "mimetype": "text/x-python",
   "name": "python",
   "nbconvert_exporter": "python",
   "pygments_lexer": "ipython2",
   "version": "2.7.6"
  }
 },
 "nbformat": 4,
 "nbformat_minor": 0
}
