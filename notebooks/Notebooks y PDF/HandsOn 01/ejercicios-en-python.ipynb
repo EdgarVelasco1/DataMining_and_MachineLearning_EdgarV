{
 "metadata": {
  "kernelspec": {
   "language": "python",
   "display_name": "Python 3",
   "name": "python3"
  },
  "language_info": {
   "name": "python",
   "version": "3.10.10",
   "mimetype": "text/x-python",
   "codemirror_mode": {
    "name": "ipython",
    "version": 3
   },
   "pygments_lexer": "ipython3",
   "nbconvert_exporter": "python",
   "file_extension": ".py"
  }
 },
 "nbformat_minor": 4,
 "nbformat": 4,
 "cells": [
  {
   "cell_type": "code",
   "source": [
    "# This Python 3 environment comes with many helpful analytics libraries installed\n",
    "# It is defined by the kaggle/python Docker image: https://github.com/kaggle/docker-python\n",
    "# For example, here's several helpful packages to load\n",
    "import numpy as np # linear algebra\n",
    "import pandas as pd # data processing, CSV file I/O (e.g. pd.read_csv)\n",
    "import matplotlib.pyplot as plt\n",
    "# Input data files are available in the read-only \"../input/\" directory\n",
    "# For example, running this (by clicking run or pressing Shift+Enter) will list all files under the input directory\n",
    "\n",
    "import os\n",
    "for dirname, _, filenames in os.walk('/kaggle/input'):\n",
    "    for filename in filenames:\n",
    "        print(os.path.join(dirname, filename))\n",
    "\n",
    "# You can write up to 20GB to the current directory (/kaggle/working/) that gets preserved as output when you create a version using \"Save & Run All\" \n",
    "# You can also write temporary files to /kaggle/temp/, but they won't be saved outside of the current session"
   ],
   "metadata": {
    "_uuid": "8f2839f25d086af736a60e9eeb907d3b93b6e0e5",
    "_cell_guid": "b1076dfc-b9ad-4769-8c92-a6c4dae69d19",
    "execution": {
     "iopub.status.busy": "2023-06-05T04:24:30.125155Z",
     "iopub.execute_input": "2023-06-05T04:24:30.125597Z",
     "iopub.status.idle": "2023-06-05T04:24:30.137674Z",
     "shell.execute_reply.started": "2023-06-05T04:24:30.125565Z",
     "shell.execute_reply": "2023-06-05T04:24:30.136326Z"
    },
    "trusted": true
   },
   "execution_count": 419,
   "outputs": [
    {
     "name": "stdout",
     "text": "/kaggle/input/new-york-air-quality/airquality.csv\n/kaggle/input/echocardiogram/echocardiogram.data\n/kaggle/input/calificaciones/calificaciones.csv\n",
     "output_type": "stream"
    }
   ]
  },
  {
   "cell_type": "markdown",
   "source": [
    "# Crear un arreglo de 10  numeros enteros aleatorios entre el 1 al 100, y despues calcular la media y la desviacion estandar del arreglo"
   ],
   "metadata": {}
  },
  {
   "cell_type": "code",
   "source": [
    "numeros=np.random.randint(0,100,size=10)\n",
    "print(numeros)\n",
    "print('media =',np.mean(numeros))\n",
    "print('desviacion estandar=',np.std(numeros))\n"
   ],
   "metadata": {
    "execution": {
     "iopub.status.busy": "2023-06-05T01:27:51.392067Z",
     "iopub.execute_input": "2023-06-05T01:27:51.392484Z",
     "iopub.status.idle": "2023-06-05T01:27:51.399840Z",
     "shell.execute_reply.started": "2023-06-05T01:27:51.392452Z",
     "shell.execute_reply": "2023-06-05T01:27:51.398747Z"
    },
    "trusted": true
   },
   "execution_count": 273,
   "outputs": [
    {
     "name": "stdout",
     "text": "[85 32 56 20 97 57 82 48 78 40]\nmedia = 59.5\ndesviacion estandar= 23.984369910422913\n",
     "output_type": "stream"
    }
   ]
  },
  {
   "cell_type": "markdown",
   "source": [
    "# Crear un arreglo bidimensional de 3 filas y 4 columnas con valores enteros aleatorios, luego calcular la suma de cada fila y cada columna"
   ],
   "metadata": {}
  },
  {
   "cell_type": "code",
   "source": [
    "numeros = np.random.randint(0,101,size=(3,4))\n",
    "filas=np.sum(numeros, axis=1)\n",
    "columnas= np.sum(numeros, axis=0)\n",
    "print(numeros)\n",
    "print('suma de las filas:',filas)\n",
    "print('suma de las columnas:',columnas)"
   ],
   "metadata": {
    "execution": {
     "iopub.status.busy": "2023-06-05T01:27:51.434372Z",
     "iopub.execute_input": "2023-06-05T01:27:51.435532Z",
     "iopub.status.idle": "2023-06-05T01:27:51.443546Z",
     "shell.execute_reply.started": "2023-06-05T01:27:51.435482Z",
     "shell.execute_reply": "2023-06-05T01:27:51.442456Z"
    },
    "trusted": true
   },
   "execution_count": 274,
   "outputs": [
    {
     "name": "stdout",
     "text": "[[28 22 17 20]\n [43 70 96 59]\n [40 75  5 82]]\nsuma de las filas: [ 87 268 202]\nsuma de las columnas: [111 167 118 161]\n",
     "output_type": "stream"
    }
   ]
  },
  {
   "cell_type": "markdown",
   "source": [
    "# Crear un Dataframe con tres columnas: \"Nombre\", \"Edad\", y \"Ciudad\". Añadir al menos 5 filas de datos para el DataFrame. luego, filtrar el DataFrame para solo incluir filas donde la edad de las personas es mayor o igual que 30."
   ],
   "metadata": {}
  },
  {
   "cell_type": "code",
   "source": [
    "df = pd.DataFrame(columns=['Nombre', 'Edad', 'Ciudad'])\n",
    "\n",
    "df = pd.concat([df,pd.DataFrame.from_records([\n",
    "    {'Nombre':'Erick','Edad': 19,'Ciudad':'New York'},\n",
    "    {'Nombre':'Anna','Edad': 21,'Ciudad':'Pripiat'},\n",
    "    {'Nombre':'Ahoshino','Edad': 25,'Ciudad':'Saitama'},\n",
    "    {'Nombre':'Khang','Edad': 43,'Ciudad':'Bombay'},\n",
    "    {'Nombre':'Marissa','Edad': 45,'Ciudad':'Napoles'}\n",
    "])])\n",
    "\n",
    "print(df[df.Edad >= 30])"
   ],
   "metadata": {
    "execution": {
     "iopub.status.busy": "2023-06-05T01:27:51.473519Z",
     "iopub.execute_input": "2023-06-05T01:27:51.474324Z",
     "iopub.status.idle": "2023-06-05T01:27:51.488516Z",
     "shell.execute_reply.started": "2023-06-05T01:27:51.474291Z",
     "shell.execute_reply": "2023-06-05T01:27:51.487408Z"
    },
    "trusted": true
   },
   "execution_count": 275,
   "outputs": [
    {
     "name": "stdout",
     "text": "    Nombre Edad   Ciudad\n3    Khang   43   Bombay\n4  Marissa   45  Napoles\n",
     "output_type": "stream"
    }
   ]
  },
  {
   "cell_type": "markdown",
   "source": [
    "# Cargar un archivo CSV dentro de un DataFrame y luego calcular la media, mediana y la moda de una de las columnas en el dataframe."
   ],
   "metadata": {}
  },
  {
   "cell_type": "code",
   "source": [
    "df = pd.read_csv('/kaggle/input/calificaciones/calificaciones.csv',sep=';')\n",
    "\n",
    "print(df)\n",
    "print('la media de c1 es:',np.mean(df.calificaciones1))\n",
    "print('la mediana de c1 es:',np.median(df.calificaciones1))\n",
    "\n",
    "valores, contador = np.unique(df.calificaciones1,return_counts=True)\n",
    "moda=valores[contador == np.max(contador)]\n",
    "\n",
    "print('la moda de c1 es:',moda)"
   ],
   "metadata": {
    "execution": {
     "iopub.status.busy": "2023-06-05T01:27:51.511221Z",
     "iopub.execute_input": "2023-06-05T01:27:51.511930Z",
     "iopub.status.idle": "2023-06-05T01:27:51.529894Z",
     "shell.execute_reply.started": "2023-06-05T01:27:51.511891Z",
     "shell.execute_reply": "2023-06-05T01:27:51.528611Z"
    },
    "trusted": true
   },
   "execution_count": 276,
   "outputs": [
    {
     "name": "stdout",
     "text": "     Nombres  calificaciones1  calificaciones2  calificaciones3\n0    Laberto               18               17               12\n1    Belinda               17               20               14\n2     Carmen               12               14               13\n3      David               14               10               16\n4     Evelin               10               14               17\n5     Fabian               13               13               17\n6     Hernan               12               14               12\n7       Isis               10               15               11\n8      Jaime               18               17               14\n9      Karla               20               19               15\n10    Lorena               13               14               17\n11    Manuel               19               13               12\n12   Nathali               16               10               19\n13      Olga               14               13               15\n14  Patricio               14               12               12\n15    Ramiro               18               17               14\n16  Santiago               14               14               16\n17    Thalia               13               16               12\n18    Ursula               15               17               11\n19   Vanessa               18               12               15\nla media de c1 es: 14.9\nla mediana de c1 es: 14.0\nla moda de c1 es: [14 18]\n",
     "output_type": "stream"
    }
   ]
  },
  {
   "cell_type": "markdown",
   "source": [
    "# crear un grafico de dispersión de X y Y valores aleatorios que estén entre 1 y 100"
   ],
   "metadata": {}
  },
  {
   "cell_type": "code",
   "source": [
    "x = np.random.randint(0,101,size=50)\n",
    "y = np.random.randint(0,101,size=50)\n",
    "\n",
    "plt.scatter(x,y)\n",
    "plt.show()\n",
    "\n"
   ],
   "metadata": {
    "execution": {
     "iopub.status.busy": "2023-06-05T01:27:51.549005Z",
     "iopub.execute_input": "2023-06-05T01:27:51.549723Z",
     "iopub.status.idle": "2023-06-05T01:27:51.756678Z",
     "shell.execute_reply.started": "2023-06-05T01:27:51.549681Z",
     "shell.execute_reply": "2023-06-05T01:27:51.755602Z"
    },
    "trusted": true
   },
   "execution_count": 277,
   "outputs": [
    {
     "output_type": "display_data",
     "data": {
      "text/plain": "<Figure size 640x480 with 1 Axes>",
      "image/png": "[encoded data removed]"
     },
     "metadata": {}
    }
   ]
  },
  {
   "cell_type": "markdown",
   "source": [
    "# Cargar un archivo CSV dentro de un DataFrame y luego crear un grafico de linea de una de las columnas en el DataFrame"
   ],
   "metadata": {}
  },
  {
   "cell_type": "code",
   "source": [
    "df = pd.read_csv('/kaggle/input/calificaciones/calificaciones.csv',sep=';')\n",
    "print(df)\n",
    "\n",
    "\n",
    "x = df.Nombres\n",
    "y = df.calificaciones1\n",
    "y2 = df.calificaciones2\n",
    "y3 = df.calificaciones3\n",
    "\n",
    "\n",
    "fig, ax = plt.subplots()\n",
    "ax.plot(x, y)\n",
    "ax.plot(x,y2)\n",
    "ax.plot(x,y3)\n",
    "plt.show()\n"
   ],
   "metadata": {
    "execution": {
     "iopub.status.busy": "2023-06-05T01:27:51.758645Z",
     "iopub.execute_input": "2023-06-05T01:27:51.758958Z",
     "iopub.status.idle": "2023-06-05T01:27:52.088064Z",
     "shell.execute_reply.started": "2023-06-05T01:27:51.758932Z",
     "shell.execute_reply": "2023-06-05T01:27:52.087113Z"
    },
    "trusted": true
   },
   "execution_count": 278,
   "outputs": [
    {
     "name": "stdout",
     "text": "     Nombres  calificaciones1  calificaciones2  calificaciones3\n0    Laberto               18               17               12\n1    Belinda               17               20               14\n2     Carmen               12               14               13\n3      David               14               10               16\n4     Evelin               10               14               17\n5     Fabian               13               13               17\n6     Hernan               12               14               12\n7       Isis               10               15               11\n8      Jaime               18               17               14\n9      Karla               20               19               15\n10    Lorena               13               14               17\n11    Manuel               19               13               12\n12   Nathali               16               10               19\n13      Olga               14               13               15\n14  Patricio               14               12               12\n15    Ramiro               18               17               14\n16  Santiago               14               14               16\n17    Thalia               13               16               12\n18    Ursula               15               17               11\n19   Vanessa               18               12               15\n",
     "output_type": "stream"
    },
    {
     "output_type": "display_data",
     "data": {
      "text/plain": "<Figure size 640x480 with 1 Axes>",
      "image/png": "[encoded data removed]"
     },
     "metadata": {}
    }
   ]
  },
  {
   "cell_type": "markdown",
   "source": [
    "# 3.- DATA IMPORT\n",
    "\n",
    "## El Data set **Echocardiogram** en el repositorio de UCI de Machine Learning contiene información sobre el conjunto de datos de pacientes que han sufrido un ataque al corazón en algun punto del pasado.\n",
    "\n",
    "* ### a) descargar el conjunto de datos Echocardiogram e importarlo en un DataFrame. Leer la información sobre el conjunto de datos y descubrir como se representan los valores perdidos y asegurarse que esten propiamente representados."
   ],
   "metadata": {}
  },
  {
   "cell_type": "code",
   "source": [
    "df = pd.read_csv(\"/kaggle/input/echocardiogram/echocardiogram.data\", sep=\",\")\n",
    "print(df.head(10))"
   ],
   "metadata": {
    "execution": {
     "iopub.status.busy": "2023-06-05T01:27:52.089372Z",
     "iopub.execute_input": "2023-06-05T01:27:52.089765Z",
     "iopub.status.idle": "2023-06-05T01:27:52.105426Z",
     "shell.execute_reply.started": "2023-06-05T01:27:52.089729Z",
     "shell.execute_reply": "2023-06-05T01:27:52.104098Z"
    },
    "trusted": true
   },
   "execution_count": 279,
   "outputs": [
    {
     "name": "stdout",
     "text": "   11  0  71 0.1  0.260       9  4.600    14      1    1.1  name 1.2 0.2\n0  19  0  72   0  0.380       6  4.100    14  1.700  0.588  name   1   0\n1  16  0  55   0  0.260       4  3.420    14      1      1  name   1   0\n2  57  0  60   0  0.253  12.062  4.603    16  1.450  0.788  name   1   0\n3  19  1  57   0  0.160      22  5.750    18  2.250  0.571  name   1   0\n4  26  0  68   0  0.260       5  4.310    12      1  0.857  name   1   0\n5  13  0  62   0  0.230      31  5.430  22.5  1.875  0.857  name   1   0\n6  50  0  60   0  0.330       8  5.250    14      1      1  name   1   0\n7  19  0  46   0  0.340       0  5.090    16  1.140  1.003  name   1   0\n8  25  0  54   0  0.140      13  4.490  15.5  1.190  0.930  name   1   0\n9  10  1  77   0  0.130      16  4.230    18  1.800  0.714  name   1   1\n",
     "output_type": "stream"
    }
   ]
  },
  {
   "cell_type": "markdown",
   "source": [
    "* ### b) Asignar los atributos con nombres significativos, usted puede buscar esta información en la misma página web"
   ],
   "metadata": {}
  },
  {
   "cell_type": "code",
   "source": [
    "df = pd.read_csv(\"/kaggle/input/echocardiogram/echocardiogram.data\", sep=\",\")\n",
    "df2arr=df.to_numpy()\n",
    "df1 = pd.DataFrame(df2arr,columns=['surv', 'stl_alv', 'age_ha','prcrdl_eff', 'frct_shrt', 'epss','lvdd', 'w_mtn_scr', 'w_mtn_idx','mult', 'name' ,'group', 'alv_1'])\n",
    "print(df1.head())"
   ],
   "metadata": {
    "execution": {
     "iopub.status.busy": "2023-06-05T01:27:52.107762Z",
     "iopub.execute_input": "2023-06-05T01:27:52.108078Z",
     "iopub.status.idle": "2023-06-05T01:27:52.125219Z",
     "shell.execute_reply.started": "2023-06-05T01:27:52.108051Z",
     "shell.execute_reply": "2023-06-05T01:27:52.124168Z"
    },
    "trusted": true
   },
   "execution_count": 280,
   "outputs": [
    {
     "name": "stdout",
     "text": "  surv stl_alv age_ha prcrdl_eff frct_shrt    epss   lvdd w_mtn_scr w_mtn_idx  \\\n0   19       0     72          0     0.380       6  4.100        14     1.700   \n1   16       0     55          0     0.260       4  3.420        14         1   \n2   57       0     60          0     0.253  12.062  4.603        16     1.450   \n3   19       1     57          0     0.160      22  5.750        18     2.250   \n4   26       0     68          0     0.260       5  4.310        12         1   \n\n    mult  name group alv_1  \n0  0.588  name     1     0  \n1      1  name     1     0  \n2  0.788  name     1     0  \n3  0.571  name     1     0  \n4  0.857  name     1     0  \n",
     "output_type": "stream"
    }
   ]
  },
  {
   "cell_type": "markdown",
   "source": [
    "* ### c)¿De acuerdo a la misma información, si hay algún atributo irelevante o redundante que pueda remover? Remuevalo. "
   ],
   "metadata": {}
  },
  {
   "cell_type": "code",
   "source": [
    "df = pd.read_csv(\"/kaggle/input/echocardiogram/echocardiogram.data\", sep=\",\")\n",
    "df2arr=df.to_numpy()\n",
    "df1 = pd.DataFrame(df2arr,columns=['surv', 'stl_alv', 'age_ha','prcrdl_eff', 'frct_shrt', 'epss','lvdd', 'w_mtn_scr', 'w_mtn_idx','mult', 'name' ,'group', 'alv_1'])\n",
    "df1 = df1.drop(['prcrdl_eff','mult','name','group','alv_1'], axis = 1)\n",
    "print(df1.head())"
   ],
   "metadata": {
    "execution": {
     "iopub.status.busy": "2023-06-05T01:27:52.126392Z",
     "iopub.execute_input": "2023-06-05T01:27:52.126683Z",
     "iopub.status.idle": "2023-06-05T01:27:52.143081Z",
     "shell.execute_reply.started": "2023-06-05T01:27:52.126657Z",
     "shell.execute_reply": "2023-06-05T01:27:52.141897Z"
    },
    "trusted": true
   },
   "execution_count": 281,
   "outputs": [
    {
     "name": "stdout",
     "text": "  surv stl_alv age_ha frct_shrt    epss   lvdd w_mtn_scr w_mtn_idx\n0   19       0     72     0.380       6  4.100        14     1.700\n1   16       0     55     0.260       4  3.420        14         1\n2   57       0     60     0.253  12.062  4.603        16     1.450\n3   19       1     57     0.160      22  5.750        18     2.250\n4   26       0     68     0.260       5  4.310        12         1\n",
     "output_type": "stream"
    }
   ]
  },
  {
   "cell_type": "markdown",
   "source": [
    "* ### d) ¿hay algún cambio en el tipo de datos que encuentre util? Realicelo."
   ],
   "metadata": {}
  },
  {
   "cell_type": "markdown",
   "source": [],
   "metadata": {}
  },
  {
   "cell_type": "code",
   "source": [
    "df = pd.read_csv(\"/kaggle/input/echocardiogram/echocardiogram.data\", sep=\",\")\n",
    "df2arr=df.to_numpy()\n",
    "df1 = pd.DataFrame(df2arr,columns=['surv', 'stl_alv', 'age_ha','prcrdl_eff', 'frct_shrt', 'epss','lvdd', 'w_mtn_scr', 'w_mtn_idx','mult', 'name' ,'group', 'alv_1'])\n",
    "df1 = df1.drop(['prcrdl_eff','mult','name','group','alv_1'], axis = 1)\n",
    "\n",
    "print(df1.dtypes)\n",
    "\n",
    "df1.loc[df1.surv=='?','surv']=np.nan\n",
    "df1.loc[df1.stl_alv=='?','stl_alv']=np.nan\n",
    "df1.loc[df1.age_ha=='?','age_ha']=np.nan\n",
    "df1.loc[df1.frct_shrt=='?','frct_shrt']=np.nan\n",
    "df1.loc[df1.epss=='?','epss']=np.nan\n",
    "df1.loc[df1.lvdd=='?','lvdd']=np.nan\n",
    "df1.loc[df1.w_mtn_scr=='?','w_mtn_scr']=np.nan\n",
    "df1.loc[df1.w_mtn_idx=='?','w_mtn_idx']=np.nan\n",
    "\n",
    "df1=df1.astype({\n",
    "    'surv':'float64',\n",
    "    'stl_alv':'bool',\n",
    "    'age_ha':'float64',\n",
    "    'frct_shrt':'float64',\n",
    "    'epss':'float64',\n",
    "    'lvdd':'float64',\n",
    "    'w_mtn_scr':'float64',\n",
    "    'w_mtn_idx':'float64' \n",
    "    })\n",
    "print(df1.dtypes)\n",
    "\n",
    "print(df1.head())\n",
    "\n",
    "\n"
   ],
   "metadata": {
    "execution": {
     "iopub.status.busy": "2023-06-05T01:27:52.144285Z",
     "iopub.execute_input": "2023-06-05T01:27:52.144701Z",
     "iopub.status.idle": "2023-06-05T01:27:52.178087Z",
     "shell.execute_reply.started": "2023-06-05T01:27:52.144661Z",
     "shell.execute_reply": "2023-06-05T01:27:52.176986Z"
    },
    "trusted": true
   },
   "execution_count": 282,
   "outputs": [
    {
     "name": "stdout",
     "text": "surv         object\nstl_alv      object\nage_ha       object\nfrct_shrt    object\nepss         object\nlvdd         object\nw_mtn_scr    object\nw_mtn_idx    object\ndtype: object\nsurv         float64\nstl_alv         bool\nage_ha       float64\nfrct_shrt    float64\nepss         float64\nlvdd         float64\nw_mtn_scr    float64\nw_mtn_idx    float64\ndtype: object\n   surv  stl_alv  age_ha  frct_shrt    epss   lvdd  w_mtn_scr  w_mtn_idx\n0  19.0     True    72.0      0.380   6.000  4.100       14.0       1.70\n1  16.0     True    55.0      0.260   4.000  3.420       14.0       1.00\n2  57.0     True    60.0      0.253  12.062  4.603       16.0       1.45\n3  19.0     True    57.0      0.160  22.000  5.750       18.0       2.25\n4  26.0     True    68.0      0.260   5.000  4.310       12.0       1.00\n",
     "output_type": "stream"
    }
   ]
  },
  {
   "cell_type": "markdown",
   "source": [
    "# 4.- DATA MANIPULATION\n",
    "\n",
    "## Cargar el Data set Airquality acerca del conjunto de las mediciones de la calidad del aire en Nueva York..\n",
    "\n",
    "### n) ¿para que atributos faltan valores?"
   ],
   "metadata": {}
  },
  {
   "cell_type": "code",
   "source": [
    "df = pd.read_csv('/kaggle/input/new-york-air-quality/airquality.csv')\n",
    "\n",
    "print(df.isnull().any())"
   ],
   "metadata": {
    "execution": {
     "iopub.status.busy": "2023-06-05T01:27:52.179878Z",
     "iopub.execute_input": "2023-06-05T01:27:52.180218Z",
     "iopub.status.idle": "2023-06-05T01:27:52.190784Z",
     "shell.execute_reply.started": "2023-06-05T01:27:52.180189Z",
     "shell.execute_reply": "2023-06-05T01:27:52.189707Z"
    },
    "trusted": true
   },
   "execution_count": 283,
   "outputs": [
    {
     "name": "stdout",
     "text": "Ozone       True\nSolar.R     True\nWind       False\nTemp       False\nMonth      False\nDay        False\ndtype: bool\n",
     "output_type": "stream"
    }
   ]
  },
  {
   "cell_type": "markdown",
   "source": [
    "### o) ¿todos los atributos estan en el tipo de dato mas adecuado?"
   ],
   "metadata": {}
  },
  {
   "cell_type": "code",
   "source": [
    "df = pd.read_csv('/kaggle/input/new-york-air-quality/airquality.csv')\n",
    "##df.loc[df.Ozone=='NaN','Ozone']=0\n",
    "##df.loc[df['Solar.R']==np.nan,'Solar.R']=0\n",
    "\n",
    "print(df.dtypes) \n",
    "print(np.sum(df.head(50),axis=0))"
   ],
   "metadata": {
    "execution": {
     "iopub.status.busy": "2023-06-05T01:27:52.192463Z",
     "iopub.execute_input": "2023-06-05T01:27:52.193006Z",
     "iopub.status.idle": "2023-06-05T01:27:52.208492Z",
     "shell.execute_reply.started": "2023-06-05T01:27:52.192967Z",
     "shell.execute_reply": "2023-06-05T01:27:52.207171Z"
    },
    "trusted": true
   },
   "execution_count": 284,
   "outputs": [
    {
     "name": "stdout",
     "text": "Ozone      float64\nSolar.R    float64\nWind       float64\nTemp         int64\nMonth        int64\nDay          int64\ndtype: object\nOzone       866.0\nSolar.R    9337.0\nWind        578.4\nTemp       3558.0\nMonth       269.0\nDay         686.0\ndtype: float64\n",
     "output_type": "stream"
    }
   ]
  },
  {
   "cell_type": "markdown",
   "source": [
    "### p) ¿a que  periodo del año se refieren estos registros?"
   ],
   "metadata": {}
  },
  {
   "cell_type": "code",
   "source": [
    "df = pd.read_csv('/kaggle/input/new-york-air-quality/airquality.csv')\n",
    "##print(df.head(50))\n",
    "print(np.unique(df['Month']))\n",
    "\"\"\"Los meses desde mayo hasta septiembre\"\"\"\n"
   ],
   "metadata": {
    "execution": {
     "iopub.status.busy": "2023-06-05T01:27:52.210937Z",
     "iopub.execute_input": "2023-06-05T01:27:52.211270Z",
     "iopub.status.idle": "2023-06-05T01:27:52.222552Z",
     "shell.execute_reply.started": "2023-06-05T01:27:52.211242Z",
     "shell.execute_reply": "2023-06-05T01:27:52.221316Z"
    },
    "trusted": true
   },
   "execution_count": 285,
   "outputs": [
    {
     "name": "stdout",
     "text": "[5 6 7 8 9]\n",
     "output_type": "stream"
    },
    {
     "execution_count": 285,
     "output_type": "execute_result",
     "data": {
      "text/plain": "'Los meses desde mayo hasta septiembre'"
     },
     "metadata": {}
    }
   ]
  },
  {
   "cell_type": "markdown",
   "source": [
    "### q) Cargar el paquete **dplyr** y guardar el Data set en una tabla con formato  Data Frame "
   ],
   "metadata": {}
  },
  {
   "cell_type": "code",
   "source": [
    "##pip install dfply\n",
    "##from dfply import *\n",
    "df = pd.read_csv('/kaggle/input/new-york-air-quality/airquality.csv')\n",
    "print(df.head(50))"
   ],
   "metadata": {
    "execution": {
     "iopub.status.busy": "2023-06-05T02:22:02.225312Z",
     "iopub.execute_input": "2023-06-05T02:22:02.225715Z",
     "iopub.status.idle": "2023-06-05T02:22:02.241632Z",
     "shell.execute_reply.started": "2023-06-05T02:22:02.225683Z",
     "shell.execute_reply": "2023-06-05T02:22:02.240411Z"
    },
    "trusted": true
   },
   "execution_count": 303,
   "outputs": [
    {
     "name": "stdout",
     "text": "     Ozone  Solar.R  Wind  Temp  Month  Day\n0     41.0    190.0   7.4    67      5    1\n1     36.0    118.0   8.0    72      5    2\n2     12.0    149.0  12.6    74      5    3\n3     18.0    313.0  11.5    62      5    4\n4      NaN      NaN  14.3    56      5    5\n..     ...      ...   ...   ...    ...  ...\n148   30.0    193.0   6.9    70      9   26\n149    NaN    145.0  13.2    77      9   27\n150   14.0    191.0  14.3    75      9   28\n151   18.0    131.0   8.0    76      9   29\n152   20.0    223.0  11.5    68      9   30\n\n[153 rows x 6 columns]\n",
     "output_type": "stream"
    }
   ]
  },
  {
   "cell_type": "markdown",
   "source": [
    "### r) Seleccionar los dias en mayo con la temperatura por encima de los 70 grados Fahrenheit"
   ],
   "metadata": {}
  },
  {
   "cell_type": "code",
   "source": [
    "df = pd.read_csv('/kaggle/input/new-york-air-quality/airquality.csv')\n",
    "\n",
    "print(df[(df.Temp > 70)&(df.Month == 5)])"
   ],
   "metadata": {
    "execution": {
     "iopub.status.busy": "2023-06-05T02:06:46.372305Z",
     "iopub.execute_input": "2023-06-05T02:06:46.372774Z",
     "iopub.status.idle": "2023-06-05T02:06:46.393192Z",
     "shell.execute_reply.started": "2023-06-05T02:06:46.372740Z",
     "shell.execute_reply": "2023-06-05T02:06:46.392106Z"
    },
    "trusted": true
   },
   "execution_count": 298,
   "outputs": [
    {
     "name": "stdout",
     "text": "    Ozone  Solar.R  Wind  Temp  Month  Day\n1    36.0    118.0   8.0    72      5    2\n2    12.0    149.0  12.6    74      5    3\n10    7.0      NaN   6.9    74      5   11\n21   11.0    320.0  16.6    73      5   22\n28   45.0    252.0  14.9    81      5   29\n29  115.0    223.0   5.7    79      5   30\n30   37.0    279.0   7.4    76      5   31\n",
     "output_type": "stream"
    }
   ]
  },
  {
   "cell_type": "markdown",
   "source": [
    "### s) Crear un nuevo atributo TempC el cual represente el valor de la temperatura en grados Celsius"
   ],
   "metadata": {}
  },
  {
   "cell_type": "code",
   "source": [
    "df = pd.read_csv('/kaggle/input/new-york-air-quality/airquality.csv')\n",
    "arr=np.arange(0,df['Temp'].size)\n",
    "diff=arr[0:df['Temp'].size]\n",
    "diff[:]=32\n",
    "df1=np.subtract(df.Temp,diff)\n",
    "df2=np.multiply(df1,5/9)\n",
    "df.loc[df.Temp==df.Temp,'TempC']=df2\n",
    "print(df.head(50))\n"
   ],
   "metadata": {
    "execution": {
     "iopub.status.busy": "2023-06-05T02:49:21.942409Z",
     "iopub.execute_input": "2023-06-05T02:49:21.942912Z",
     "iopub.status.idle": "2023-06-05T02:49:21.969966Z",
     "shell.execute_reply.started": "2023-06-05T02:49:21.942877Z",
     "shell.execute_reply": "2023-06-05T02:49:21.968835Z"
    },
    "trusted": true
   },
   "execution_count": 339,
   "outputs": [
    {
     "name": "stdout",
     "text": "    Ozone  Solar.R  Wind  Temp  Month  Day      TempC\n0    41.0    190.0   7.4    67      5    1  19.444444\n1    36.0    118.0   8.0    72      5    2  22.222222\n2    12.0    149.0  12.6    74      5    3  23.333333\n3    18.0    313.0  11.5    62      5    4  16.666667\n4     NaN      NaN  14.3    56      5    5  13.333333\n5    28.0      NaN  14.9    66      5    6  18.888889\n6    23.0    299.0   8.6    65      5    7  18.333333\n7    19.0     99.0  13.8    59      5    8  15.000000\n8     8.0     19.0  20.1    61      5    9  16.111111\n9     NaN    194.0   8.6    69      5   10  20.555556\n10    7.0      NaN   6.9    74      5   11  23.333333\n11   16.0    256.0   9.7    69      5   12  20.555556\n12   11.0    290.0   9.2    66      5   13  18.888889\n13   14.0    274.0  10.9    68      5   14  20.000000\n14   18.0     65.0  13.2    58      5   15  14.444444\n15   14.0    334.0  11.5    64      5   16  17.777778\n16   34.0    307.0  12.0    66      5   17  18.888889\n17    6.0     78.0  18.4    57      5   18  13.888889\n18   30.0    322.0  11.5    68      5   19  20.000000\n19   11.0     44.0   9.7    62      5   20  16.666667\n20    1.0      8.0   9.7    59      5   21  15.000000\n21   11.0    320.0  16.6    73      5   22  22.777778\n22    4.0     25.0   9.7    61      5   23  16.111111\n23   32.0     92.0  12.0    61      5   24  16.111111\n24    NaN     66.0  16.6    57      5   25  13.888889\n25    NaN    266.0  14.9    58      5   26  14.444444\n26    NaN      NaN   8.0    57      5   27  13.888889\n27   23.0     13.0  12.0    67      5   28  19.444444\n28   45.0    252.0  14.9    81      5   29  27.222222\n29  115.0    223.0   5.7    79      5   30  26.111111\n30   37.0    279.0   7.4    76      5   31  24.444444\n31    NaN    286.0   8.6    78      6    1  25.555556\n32    NaN    287.0   9.7    74      6    2  23.333333\n33    NaN    242.0  16.1    67      6    3  19.444444\n34    NaN    186.0   9.2    84      6    4  28.888889\n35    NaN    220.0   8.6    85      6    5  29.444444\n36    NaN    264.0  14.3    79      6    6  26.111111\n37   29.0    127.0   9.7    82      6    7  27.777778\n38    NaN    273.0   6.9    87      6    8  30.555556\n39   71.0    291.0  13.8    90      6    9  32.222222\n40   39.0    323.0  11.5    87      6   10  30.555556\n41    NaN    259.0  10.9    93      6   11  33.888889\n42    NaN    250.0   9.2    92      6   12  33.333333\n43   23.0    148.0   8.0    82      6   13  27.777778\n44    NaN    332.0  13.8    80      6   14  26.666667\n45    NaN    322.0  11.5    79      6   15  26.111111\n46   21.0    191.0  14.9    77      6   16  25.000000\n47   37.0    284.0  20.7    72      6   17  22.222222\n48   20.0     37.0   9.2    65      6   18  18.333333\n49   12.0    120.0  11.5    73      6   19  22.777778\n",
     "output_type": "stream"
    }
   ]
  },
  {
   "cell_type": "markdown",
   "source": [
    "### t) Inspeccionar cuales fueron los 30 dias mas calurosos"
   ],
   "metadata": {}
  },
  {
   "cell_type": "code",
   "source": [
    "df = pd.read_csv('/kaggle/input/new-york-air-quality/airquality.csv')\n",
    "df1 = df.nlargest(30,'Temp')\n",
    "print(df1)\n"
   ],
   "metadata": {
    "execution": {
     "iopub.status.busy": "2023-06-05T03:12:07.772588Z",
     "iopub.execute_input": "2023-06-05T03:12:07.773050Z",
     "iopub.status.idle": "2023-06-05T03:12:07.799688Z",
     "shell.execute_reply.started": "2023-06-05T03:12:07.773001Z",
     "shell.execute_reply": "2023-06-05T03:12:07.798787Z"
    },
    "trusted": true
   },
   "execution_count": 354,
   "outputs": [
    {
     "name": "stdout",
     "text": "     Ozone  Solar.R  Wind  Temp  Month  Day\n119   76.0    203.0   9.7    97      8   28\n121   84.0    237.0   6.3    96      8   30\n120  118.0    225.0   2.3    94      8   29\n122   85.0    188.0   6.3    94      8   31\n41     NaN    259.0  10.9    93      6   11\n125   73.0    183.0   2.8    93      9    3\n126   91.0    189.0   4.6    93      9    4\n42     NaN    250.0   9.2    92      6   12\n68    97.0    267.0   6.3    92      7    8\n69    97.0    272.0   5.7    92      7    9\n101    NaN    222.0   8.6    92      8   10\n124   78.0    197.0   5.1    92      9    2\n74     NaN    291.0  14.9    91      7   14\n123   96.0    167.0   6.9    91      9    1\n39    71.0    291.0  13.8    90      6    9\n99    89.0    229.0  10.3    90      8    8\n100  110.0    207.0   8.0    90      8    9\n70    85.0    175.0   7.4    89      7   10\n98   122.0    255.0   4.0    89      8    7\n67    77.0    276.0   5.1    88      7    7\n88    82.0    213.0   7.4    88      7   28\n118    NaN    153.0   5.7    88      8   27\n38     NaN    273.0   6.9    87      6    8\n40    39.0    323.0  11.5    87      6   10\n79    79.0    187.0   5.1    87      7   19\n97    66.0      NaN   4.6    87      8    6\n127   47.0     95.0   7.4    87      9    5\n84    80.0    294.0   8.6    86      7   24\n87    52.0     82.0  12.0    86      7   27\n89    50.0    275.0   7.4    86      7   29\n",
     "output_type": "stream"
    }
   ]
  },
  {
   "cell_type": "markdown",
   "source": [
    "### u) Inspeccionar cuales fueron los dias mas calurosos, pero también los que tengan los mayores valores de ozono."
   ],
   "metadata": {}
  },
  {
   "cell_type": "code",
   "source": [
    "df = pd.read_csv('/kaggle/input/new-york-air-quality/airquality.csv')\n",
    "df1 = df.nlargest(df['Temp'].size,'Temp')\n",
    "df2 = df.nlargest(df['Ozone'].size,'Ozone')\n",
    "df3 = pd.merge(df1,df2)\n",
    "print(df3)"
   ],
   "metadata": {
    "execution": {
     "iopub.status.busy": "2023-06-05T03:52:00.770659Z",
     "iopub.execute_input": "2023-06-05T03:52:00.771078Z",
     "iopub.status.idle": "2023-06-05T03:52:00.795684Z",
     "shell.execute_reply.started": "2023-06-05T03:52:00.771045Z",
     "shell.execute_reply": "2023-06-05T03:52:00.794548Z"
    },
    "trusted": true
   },
   "execution_count": 399,
   "outputs": [
    {
     "name": "stdout",
     "text": "     Ozone  Solar.R  Wind  Temp  Month  Day\n0     76.0    203.0   9.7    97      8   28\n1     84.0    237.0   6.3    96      8   30\n2     85.0    188.0   6.3    94      8   31\n3    118.0    225.0   2.3    94      8   29\n4      NaN    259.0  10.9    93      6   11\n..     ...      ...   ...   ...    ...  ...\n148   18.0     65.0  13.2    58      5   15\n149    6.0     78.0  18.4    57      5   18\n150    NaN      NaN   8.0    57      5   27\n151    NaN     66.0  16.6    57      5   25\n152    NaN      NaN  14.3    56      5    5\n\n[153 rows x 6 columns]\n",
     "output_type": "stream"
    }
   ]
  },
  {
   "cell_type": "markdown",
   "source": [
    "### v) inspeccionar el número de dias para los cuales hubo un registro por cada mes."
   ],
   "metadata": {}
  },
  {
   "cell_type": "code",
   "source": [
    "df = pd.read_csv('/kaggle/input/new-york-air-quality/airquality.csv')\n",
    "mts=np.unique(df.Month)\n",
    "for m in mts:\n",
    "    print('mes:', m,'numero de dias', np.count_nonzero(df.Month==m))\n",
    "\n"
   ],
   "metadata": {
    "execution": {
     "iopub.status.busy": "2023-06-05T05:07:43.992814Z",
     "iopub.execute_input": "2023-06-05T05:07:43.993352Z",
     "iopub.status.idle": "2023-06-05T05:07:44.012227Z",
     "shell.execute_reply.started": "2023-06-05T05:07:43.993312Z",
     "shell.execute_reply": "2023-06-05T05:07:44.011143Z"
    },
    "trusted": true
   },
   "execution_count": 456,
   "outputs": [
    {
     "name": "stdout",
     "text": "mes: 5 numero de dias 31\nmes: 6 numero de dias 30\nmes: 7 numero de dias 31\nmes: 8 numero de dias 31\nmes: 9 numero de dias 30\n",
     "output_type": "stream"
    }
   ]
  },
  {
   "cell_type": "markdown",
   "source": [
    "### w) Por cada mes, obtener la temperatura maxima y mínima registrada en grados Celsius"
   ],
   "metadata": {}
  },
  {
   "cell_type": "code",
   "source": [
    "df = pd.read_csv('/kaggle/input/new-york-air-quality/airquality.csv')\n",
    "arr=np.arange(0,df['Temp'].size)\n",
    "diff=arr[0:df['Temp'].size]\n",
    "diff[:]=32\n",
    "df1=np.subtract(df.Temp,diff)\n",
    "df2=np.multiply(df1,5/9)\n",
    "df.loc[df.Temp==df.Temp,'TempC']=df2\n",
    "\n",
    "mts=np.unique(df.Month)\n",
    "for m in mts:\n",
    "    print('mes:', m,'Temperatura máxima:', np.amax(df[df.Month==m].TempC))\n",
    "    print('mes:', m,'Temperatura mínima:', np.amin(df[df.Month==m].TempC))"
   ],
   "metadata": {
    "execution": {
     "iopub.status.busy": "2023-06-05T05:19:33.836564Z",
     "iopub.execute_input": "2023-06-05T05:19:33.837197Z",
     "iopub.status.idle": "2023-06-05T05:19:33.859538Z",
     "shell.execute_reply.started": "2023-06-05T05:19:33.837153Z",
     "shell.execute_reply": "2023-06-05T05:19:33.858705Z"
    },
    "trusted": true
   },
   "execution_count": 464,
   "outputs": [
    {
     "name": "stdout",
     "text": "mes: 5 Temperatura máxima: 27.222222222222225\nmes: 5 Temperatura mínima: 13.333333333333334\nmes: 6 Temperatura máxima: 33.88888888888889\nmes: 6 Temperatura mínima: 18.333333333333336\nmes: 7 Temperatura máxima: 33.333333333333336\nmes: 7 Temperatura mínima: 22.77777777777778\nmes: 8 Temperatura máxima: 36.111111111111114\nmes: 8 Temperatura mínima: 22.22222222222222\nmes: 9 Temperatura máxima: 33.88888888888889\nmes: 9 Temperatura mínima: 17.22222222222222\n",
     "output_type": "stream"
    }
   ]
  },
  {
   "cell_type": "markdown",
   "source": [
    "### x) Obtener el promedio de los siguientes parámetros por mes: temperatura en grados Celsius, viento, radiación solar y ozono."
   ],
   "metadata": {}
  },
  {
   "cell_type": "code",
   "source": [
    "df = pd.read_csv('/kaggle/input/new-york-air-quality/airquality.csv')\n",
    "arr=np.arange(0,df['Temp'].size)\n",
    "diff=arr[0:df['Temp'].size]\n",
    "diff[:]=32\n",
    "df1=np.subtract(df.Temp,diff)\n",
    "df2=np.multiply(df1,5/9)\n",
    "df.loc[df.Temp==df.Temp,'TempC']=df2\n",
    "\n",
    "mts=np.unique(df.Month)\n",
    "for m in mts:\n",
    "    print('mes:', m,'Promedio Temperatura:', np.mean(df[df.Month==m].TempC))\n",
    "    print('mes:', m,'Promedio Viento:', np.mean(df[df.Month==m].Wind))\n",
    "    print('mes:', m,'Promedio Radiación solar:', np.mean(df[df.Month==m]['Solar.R']))\n",
    "    print('mes:', m,'Promedio Ozono:', np.mean(df[df.Month==m].Ozone))"
   ],
   "metadata": {
    "execution": {
     "iopub.status.busy": "2023-06-05T05:25:54.749072Z",
     "iopub.execute_input": "2023-06-05T05:25:54.750236Z",
     "iopub.status.idle": "2023-06-05T05:25:54.787797Z",
     "shell.execute_reply.started": "2023-06-05T05:25:54.750192Z",
     "shell.execute_reply": "2023-06-05T05:25:54.786591Z"
    },
    "trusted": true
   },
   "execution_count": 465,
   "outputs": [
    {
     "name": "stdout",
     "text": "mes: 5 Promedio Temperatura: 18.63799283154122\nmes: 5 Promedio Viento: 11.622580645161289\nmes: 5 Promedio Radiación solar: 181.2962962962963\nmes: 5 Promedio Ozono: 23.615384615384617\nmes: 6 Promedio Temperatura: 26.16666666666667\nmes: 6 Promedio Viento: 10.266666666666664\nmes: 6 Promedio Radiación solar: 190.16666666666666\nmes: 6 Promedio Ozono: 29.444444444444443\nmes: 7 Promedio Temperatura: 28.835125448028673\nmes: 7 Promedio Viento: 8.941935483870965\nmes: 7 Promedio Radiación solar: 216.48387096774192\nmes: 7 Promedio Ozono: 59.11538461538461\nmes: 8 Promedio Temperatura: 28.87096774193548\nmes: 8 Promedio Viento: 8.793548387096775\nmes: 8 Promedio Radiación solar: 171.85714285714286\nmes: 8 Promedio Ozono: 59.96153846153846\nmes: 9 Promedio Temperatura: 24.944444444444446\nmes: 9 Promedio Viento: 10.18\nmes: 9 Promedio Radiación solar: 167.43333333333334\nmes: 9 Promedio Ozono: 31.448275862068964\n",
     "output_type": "stream"
    }
   ]
  },
  {
   "cell_type": "markdown",
   "source": [
    "### y) ¿Que valores se obtuvieron sobre los atributos de ozono y radiación solar y porque? Hacer los cambios necesarios para que se obtenga el promedio de los valores registrados."
   ],
   "metadata": {}
  },
  {
   "cell_type": "code",
   "source": [
    "df = pd.read_csv('/kaggle/input/new-york-air-quality/airquality.csv')\n",
    "df1 = df.Ozone\n",
    "df2 = df['Solar.R']\n",
    "\n",
    "df1 = df1.dropna()\n",
    "df2 = df2.dropna()\n",
    "\n",
    "print('El Promedio de Ozono es:',np.mean(df1))\n",
    "print('El Promedio de Radiacion Solar es:',np.mean(df2))\n",
    "\n"
   ],
   "metadata": {
    "execution": {
     "iopub.status.busy": "2023-06-05T05:40:10.283624Z",
     "iopub.execute_input": "2023-06-05T05:40:10.284091Z",
     "iopub.status.idle": "2023-06-05T05:40:10.300171Z",
     "shell.execute_reply.started": "2023-06-05T05:40:10.284057Z",
     "shell.execute_reply": "2023-06-05T05:40:10.298736Z"
    },
    "trusted": true
   },
   "execution_count": 472,
   "outputs": [
    {
     "name": "stdout",
     "text": "El Promedio de Ozono es: 42.12931034482759\nEl Promedio de Radiacion Solar es: 185.93150684931507\n",
     "output_type": "stream"
    }
   ]
  }
 ]
}
