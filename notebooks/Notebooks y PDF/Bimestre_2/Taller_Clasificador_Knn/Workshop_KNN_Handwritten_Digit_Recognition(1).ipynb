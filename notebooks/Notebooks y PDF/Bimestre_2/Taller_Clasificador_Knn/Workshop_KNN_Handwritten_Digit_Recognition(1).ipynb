{
  "nbformat": 4,
  "nbformat_minor": 0,
  "metadata": {
    "colab": {
      "provenance": []
    },
    "kernelspec": {
      "name": "python3",
      "display_name": "Python 3"
    },
    "language_info": {
      "name": "python"
    }
  },
  "cells": [
    {
      "cell_type": "code",
      "source": [
        "import tensorflow as tf\n",
        "from sklearn.preprocessing import MinMaxScaler\n",
        "from sklearn.model_selection import train_test_split\n",
        "from sklearn.neighbors import KNeighborsClassifier\n",
        "from sklearn.metrics import accuracy_score\n",
        "import matplotlib.pyplot as plt"
      ],
      "metadata": {
        "id": "mDPukSh5B3xI"
      },
      "execution_count": 26,
      "outputs": []
    },
    {
      "cell_type": "markdown",
      "source": [
        "# Parte 1: Data Preprocessing"
      ],
      "metadata": {
        "id": "zizNvdDWGeQe"
      }
    },
    {
      "cell_type": "code",
      "execution_count": 27,
      "metadata": {
        "id": "3An8bZm6_DXB",
        "colab": {
          "base_uri": "https://localhost:8080/"
        },
        "outputId": "74f3ce5c-83a3-4b35-9313-ead347c268ee"
      },
      "outputs": [
        {
          "output_type": "stream",
          "name": "stdout",
          "text": [
            "Dimensiones de x_train: (60000, 28, 28)\n",
            "Dimensiones de y_train: (60000,)\n",
            "Dimensiones de x_test: (10000, 28, 28)\n",
            "Dimensiones de y_test: (10000,)\n"
          ]
        }
      ],
      "source": [
        "# Cargar el conjunto de datos MNIST\n",
        "(x_train, y_train), (x_test, y_test) = tf.keras.datasets.mnist.load_data()\n",
        "\n",
        "# Verificar las dimensiones de los datos\n",
        "print(\"Dimensiones de x_train:\", x_train.shape)\n",
        "print(\"Dimensiones de y_train:\", y_train.shape)\n",
        "print(\"Dimensiones de x_test:\", x_test.shape)\n",
        "print(\"Dimensiones de y_test:\", y_test.shape)\n"
      ]
    },
    {
      "cell_type": "code",
      "source": [
        "# Escalada de datos\n",
        "scaler = MinMaxScaler()\n",
        "x_train_scaled = scaler.fit_transform(x_train.reshape(-1, 28*28))\n",
        "x_test_scaled = scaler.transform(x_test.reshape(-1, 28*28))"
      ],
      "metadata": {
        "id": "lSTCyxjbBh44"
      },
      "execution_count": 28,
      "outputs": []
    },
    {
      "cell_type": "code",
      "source": [
        "# Split de train y test sets\n",
        "x_train_split, x_test_split, y_train_split, y_test_split = train_test_split(\n",
        "    x_train_scaled, y_train, test_size=0.2, random_state=42)\n",
        "\n",
        "# x_train_split: 80% de los datos de entrenamiento\n",
        "# x_test_split:  20% de los datos de testeo\n",
        "# y_train_split: conjunto de datos de salida del entrenamiento\n",
        "# y_test_split:  conjunto de datos de salida del testeto"
      ],
      "metadata": {
        "id": "ZyiwO32ZCbBG"
      },
      "execution_count": 29,
      "outputs": []
    },
    {
      "cell_type": "markdown",
      "source": [
        "# Parte 2: K-nn algorithm"
      ],
      "metadata": {
        "id": "w6uwmOSuDBA3"
      }
    },
    {
      "cell_type": "code",
      "source": [
        "# Crear una instancia del clasificador KNN con el número de vecinos deseado (por ejemplo, k=3)\n",
        "k=3\n",
        "knn = KNeighborsClassifier(n_neighbors=k)\n",
        "\n",
        "# Entrenar el modelo con los datos de train\n",
        "knn.fit(x_train_split, y_train_split)\n",
        "\n",
        "# Realizar predicciones en el conjunto de testeo\n",
        "y_pred = knn.predict(x_test_split)\n",
        "\n",
        "# Calcular la precisión del modelo en el conjunto de testeo\n",
        "accuracy = accuracy_score(y_test_split, y_pred)\n",
        "print(\"Precisión en el conjunto de validación:\", accuracy)"
      ],
      "metadata": {
        "colab": {
          "base_uri": "https://localhost:8080/"
        },
        "id": "JPKreVXGC1uI",
        "outputId": "e8abe8fe-9ac9-4d0a-97c2-8250297ea6b2"
      },
      "execution_count": 30,
      "outputs": [
        {
          "output_type": "stream",
          "name": "stdout",
          "text": [
            "Precisión en el conjunto de validación: 0.9726666666666667\n"
          ]
        }
      ]
    },
    {
      "cell_type": "markdown",
      "source": [
        "# Parte 3: Selection of an appropiate k-value"
      ],
      "metadata": {
        "id": "yWSBkOkEDjWB"
      }
    },
    {
      "cell_type": "code",
      "source": [
        "# Se repite la Parte 2 con k=2 para encontrar el mejor valor de k\n",
        "k=2\n",
        "knn = KNeighborsClassifier(n_neighbors=k)\n",
        "\n",
        "knn.fit(x_train_split, y_train_split)\n",
        "\n",
        "y_pred = knn.predict(x_test_split)\n",
        "\n",
        "accuracy = accuracy_score(y_test_split, y_pred)\n",
        "print(\"Precisión en el conjunto de validación:\", accuracy)\n",
        "\n",
        "# por lo tanto el mejor valor de k es 3\n"
      ],
      "metadata": {
        "colab": {
          "base_uri": "https://localhost:8080/"
        },
        "id": "muvLezKXDiWy",
        "outputId": "c0a9369c-89a8-401a-8140-b6bdb05f1f55"
      },
      "execution_count": 31,
      "outputs": [
        {
          "output_type": "stream",
          "name": "stdout",
          "text": [
            "Precisión en el conjunto de validación: 0.96425\n"
          ]
        }
      ]
    },
    {
      "cell_type": "markdown",
      "source": [
        "# Parte 4: Model's evaluation"
      ],
      "metadata": {
        "id": "XSpRsAYZF_Rc"
      }
    },
    {
      "cell_type": "code",
      "source": [
        "# Predicciones en el conjunto de test\n",
        "y_pred = knn.predict(x_test_split)\n",
        "\n",
        "# Calcular la precisión del modelo en el conjunto de test\n",
        "accuracy = accuracy_score(y_test_split, y_pred)\n",
        "print(\"Precisión en el conjunto de validación:\", accuracy)\n",
        "\n",
        "# Calcular la precisión del modelo en el conjunto de test\n",
        "precision = precision_score(y_test_split, y_pred, average='weighted')\n",
        "print(\"Precisión (weighted) en el conjunto de validación:\", precision)\n",
        "\n",
        "# Calcular el recall del modelo en el conjunto de test\n",
        "recall = recall_score(y_test_split, y_pred, average='weighted')\n",
        "print(\"Recall (weighted) en el conjunto de validación:\", recall)\n",
        "\n",
        "# Calcular el F1-score del modelo en el conjunto de test\n",
        "f1 = f1_score(y_test_split, y_pred, average='weighted')\n",
        "print(\"F1-score (weighted) en el conjunto de validación:\", f1)"
      ],
      "metadata": {
        "id": "oy_1f-WyF-72",
        "colab": {
          "base_uri": "https://localhost:8080/"
        },
        "outputId": "c3ed35e1-ff3a-40f5-d7ac-340ebd223704"
      },
      "execution_count": 32,
      "outputs": [
        {
          "output_type": "stream",
          "name": "stdout",
          "text": [
            "Precisión en el conjunto de validación: 0.96425\n",
            "Precisión (weighted) en el conjunto de validación: 0.9648740878267289\n",
            "Recall (weighted) en el conjunto de validación: 0.96425\n",
            "F1-score (weighted) en el conjunto de validación: 0.9640939440552153\n"
          ]
        }
      ]
    },
    {
      "cell_type": "markdown",
      "source": [
        "# Parte 5: Visualization of classified digits"
      ],
      "metadata": {
        "id": "8hKHh--JH5Zk"
      }
    },
    {
      "cell_type": "code",
      "source": [
        "# Realizar predicciones en el conjunto de test\n",
        "y_pred = knn.predict(x_test_split)\n",
        "\n",
        "# Índices para dígitos correcta e incorrectamente clasificados\n",
        "correctly_classified_indices = (y_pred == y_test_split)\n",
        "incorrectly_classified_indices = (y_pred != y_test_split)\n",
        "\n",
        "# Muestras de dígitos correcta e incorrectamente clasificados\n",
        "correctly_classified_digits = x_test_split[correctly_classified_indices]\n",
        "incorrectly_classified_digits = x_test_split[incorrectly_classified_indices]\n",
        "incorrectly_classified_labels = y_pred[incorrectly_classified_indices]\n",
        "\n",
        "# Función para visualizar los dígitos\n",
        "def visualize_digits(digits, labels, title):\n",
        "    plt.figure(figsize=(10, 5))\n",
        "    for i in range(10):\n",
        "        plt.subplot(2, 5, i + 1)\n",
        "        plt.imshow(digits[i].reshape(28, 28), cmap='gray')\n",
        "        plt.title(f'Pred: {labels[i]}')\n",
        "        plt.axis('off')\n",
        "    plt.suptitle(title)\n",
        "    plt.show()\n",
        "\n",
        "# Visualizar algunos dígitos correctamente clasificados\n",
        "visualize_digits(correctly_classified_digits[:10], y_pred[:10], title='Dígitos Correctamente Clasificados')\n",
        "\n",
        "# Visualizar algunos dígitos incorrectamente clasificados\n",
        "visualize_digits(incorrectly_classified_digits[:10], incorrectly_classified_labels[:10], title='Dígitos Incorrectamente Clasificados')"
      ],
      "metadata": {
        "colab": {
          "base_uri": "https://localhost:8080/",
          "height": 885
        },
        "id": "gEeyJmYEH5qu",
        "outputId": "a3b14b87-6f52-454d-f861-24cdde8c041d"
      },
      "execution_count": 34,
      "outputs": [
        {
          "output_type": "display_data",
          "data": {
            "text/plain": [
              "<Figure size 1000x500 with 10 Axes>"
            ],
            "image/png": "[encoded data removed]"
          },
          "metadata": {}
        },
        {
          "output_type": "display_data",
          "data": {
            "text/plain": [
              "<Figure size 1000x500 with 10 Axes>"
            ],
            "image/png": "[encoded data removed]"
          },
          "metadata": {}
        }
      ]
    }
  ]
}