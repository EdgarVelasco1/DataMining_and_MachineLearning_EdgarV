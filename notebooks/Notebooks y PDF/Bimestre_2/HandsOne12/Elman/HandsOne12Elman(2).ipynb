{
 "cells": [
  {
   "cell_type": "markdown",
   "id": "ce24619c-8286-42e1-a164-8ad911a98280",
   "metadata": {
    "tags": []
   },
   "source": [
    "# RNN con el modelo Elman"
   ]
  },
  {
   "cell_type": "code",
   "execution_count": 3,
   "id": "90956b10-dbb5-4bd8-8a37-f48e81b72591",
   "metadata": {},
   "outputs": [
    {
     "name": "stdout",
     "output_type": "stream",
     "text": [
      "listo\n"
     ]
    }
   ],
   "source": [
    "from keras.datasets import imdb\n",
    "from keras.preprocessing import sequence\n",
    "from keras.models import Sequential\n",
    "from keras.layers import Embedding, SimpleRNN, Dense, Bidirectional\n",
    "print(\"listo\")"
   ]
  },
  {
   "cell_type": "markdown",
   "id": "a4d57e24-982f-427f-a88e-9f0e668b9f1f",
   "metadata": {},
   "source": [
    "## definimos el numero de secuencias, para un entrenamiento de secuencias largas y cortas y los dividimos en valores de entrenamiento y testeo"
   ]
  },
  {
   "cell_type": "code",
   "execution_count": 4,
   "id": "d295d5dc-ae5a-4af5-87c8-8f2423d0cb96",
   "metadata": {},
   "outputs": [
    {
     "name": "stdout",
     "output_type": "stream",
     "text": [
      "listo\n"
     ]
    }
   ],
   "source": [
    "max_features = 5000  # Number of words to consider as features\n",
    "max_len_short = 100  # Maximum sequence length for short sequences\n",
    "max_len_long = 500   # Maximum sequence length for long sequences\n",
    "\n",
    "(x_train, y_train), (x_test, y_test) = imdb.load_data(num_words=max_features)\n",
    "print(\"listo\")"
   ]
  },
  {
   "cell_type": "markdown",
   "id": "54219229-f915-4c1f-bade-d113de469734",
   "metadata": {},
   "source": [
    "## dividimos en Padings los datos de entrenamiento y testeo"
   ]
  },
  {
   "cell_type": "code",
   "execution_count": 5,
   "id": "6feeb471-ecc9-4cbf-8dc5-90799b6555fe",
   "metadata": {},
   "outputs": [
    {
     "name": "stdout",
     "output_type": "stream",
     "text": [
      "listo\n"
     ]
    }
   ],
   "source": [
    "x_train_short = sequence.pad_sequences(x_train, maxlen=max_len_short)\n",
    "x_test_short = sequence.pad_sequences(x_test, maxlen=max_len_short)\n",
    "\n",
    "x_train_long = sequence.pad_sequences(x_train, maxlen=max_len_long)\n",
    "x_test_long = sequence.pad_sequences(x_test, maxlen=max_len_long)\n",
    "print(\"listo\")"
   ]
  },
  {
   "cell_type": "markdown",
   "id": "c872cba9-52bc-4676-b2f5-a9b5725b0087",
   "metadata": {},
   "source": [
    "## definimos los modelos que vamos a utilizar mediante estas funciones ya sea modelo Elman Jordan o bidireccional"
   ]
  },
  {
   "cell_type": "code",
   "execution_count": 6,
   "id": "11cdc6d4-4b58-4348-8e49-487066da9412",
   "metadata": {},
   "outputs": [
    {
     "name": "stdout",
     "output_type": "stream",
     "text": [
      "listo\n"
     ]
    }
   ],
   "source": [
    "def build_elman_rnn_model():\n",
    "    model = Sequential()\n",
    "    model.add(Embedding(max_features, 32))\n",
    "    model.add(SimpleRNN(32, activation='relu'))\n",
    "    model.add(Dense(1, activation='sigmoid'))\n",
    "    return model\n",
    "\n",
    "def build_jordan_rnn_model():\n",
    "    model = Sequential()\n",
    "    model.add(Embedding(max_features, 32))\n",
    "    model.add(SimpleRNN(32, activation='relu', return_sequences=True))\n",
    "    model.add(Dense(1, activation='sigmoid'))\n",
    "    return model\n",
    "\n",
    "def build_bidirectional_rnn_model():\n",
    "    model = Sequential()\n",
    "    model.add(Embedding(max_features, 32))\n",
    "    model.add(Bidirectional(SimpleRNN(32, activation='relu')))\n",
    "    model.add(Dense(1, activation='sigmoid'))\n",
    "    return model\n",
    "print(\"listo\")"
   ]
  },
  {
   "cell_type": "markdown",
   "id": "328e14c0-1cd5-495f-b748-54e46d656e21",
   "metadata": {},
   "source": [
    "## definimos una función de entrenamiento con su optimizador y función de perdida que evalua al modelo mediante los valores de perdida y el accuracy, podemos tambien configurar el numero de Epocas y el tamaño del batch"
   ]
  },
  {
   "cell_type": "code",
   "execution_count": 7,
   "id": "7b8b0801-d875-4ba7-b4c0-edc7a4f242ac",
   "metadata": {},
   "outputs": [
    {
     "name": "stdout",
     "output_type": "stream",
     "text": [
      "listo\n"
     ]
    }
   ],
   "source": [
    "def train_and_evaluate_model(model, x_train, y_train, x_test, y_test):\n",
    "    model.compile(optimizer='adam', loss='binary_crossentropy', metrics=['accuracy'])\n",
    "    history = model.fit(x_train, y_train, epochs=5, batch_size=128, validation_split=0.2)\n",
    "    loss, accuracy = model.evaluate(x_test, y_test)\n",
    "    return loss, accuracy, history\n",
    "print(\"listo\")"
   ]
  },
  {
   "cell_type": "markdown",
   "id": "369b25c6-6abc-498b-873e-61409ecda5ad",
   "metadata": {},
   "source": [
    "## Procedemos a seleccionar el modelo y entrenarlo "
   ]
  },
  {
   "cell_type": "code",
   "execution_count": 8,
   "id": "ade72c59-cc6c-490b-9151-5688d8c2ceca",
   "metadata": {},
   "outputs": [
    {
     "name": "stdout",
     "output_type": "stream",
     "text": [
      "\n",
      "Training RNN model on short sequences:\n",
      "Epoch 1/5\n",
      "157/157 [==============================] - 10s 46ms/step - loss: 0.5836 - accuracy: 0.6779 - val_loss: 0.4169 - val_accuracy: 0.8122\n",
      "Epoch 2/5\n",
      "157/157 [==============================] - 6s 41ms/step - loss: 0.3364 - accuracy: 0.8573 - val_loss: 0.3532 - val_accuracy: 0.8444\n",
      "Epoch 3/5\n",
      "157/157 [==============================] - 7s 43ms/step - loss: 0.2741 - accuracy: 0.8864 - val_loss: 0.3628 - val_accuracy: 0.8392\n",
      "Epoch 4/5\n",
      "157/157 [==============================] - 7s 46ms/step - loss: 0.2349 - accuracy: 0.9050 - val_loss: 0.3660 - val_accuracy: 0.8420\n",
      "Epoch 5/5\n",
      "157/157 [==============================] - 8s 49ms/step - loss: 0.2017 - accuracy: 0.9194 - val_loss: 0.3916 - val_accuracy: 0.8308\n",
      "782/782 [==============================] - 8s 10ms/step - loss: 0.3871 - accuracy: 0.8386\n",
      "listo\n"
     ]
    }
   ],
   "source": [
    "print(\"\\nTraining RNN model on short sequences:\")\n",
    "rnn_model_short = build_elman_rnn_model()\n",
    "loss_short, accuracy_short, history_short = train_and_evaluate_model(\n",
    "    rnn_model_short, x_train_short, y_train, x_test_short, y_test\n",
    ")\n",
    "print(\"listo\")"
   ]
  },
  {
   "cell_type": "code",
   "execution_count": 9,
   "id": "83e3fa70-282f-4268-9e63-b10e621c4a8b",
   "metadata": {},
   "outputs": [
    {
     "name": "stdout",
     "output_type": "stream",
     "text": [
      "\n",
      "Training Elman RNN model on long sequences:\n",
      "Epoch 1/5\n",
      "157/157 [==============================] - 35s 213ms/step - loss: 0.6469 - accuracy: 0.6365 - val_loss: 0.5416 - val_accuracy: 0.7430\n",
      "Epoch 2/5\n",
      "157/157 [==============================] - 34s 220ms/step - loss: 0.4176 - accuracy: 0.8115 - val_loss: 0.3630 - val_accuracy: 0.8442\n",
      "Epoch 3/5\n",
      "157/157 [==============================] - 35s 225ms/step - loss: 0.3054 - accuracy: 0.8736 - val_loss: 0.4394 - val_accuracy: 0.7890\n",
      "Epoch 4/5\n",
      "157/157 [==============================] - 34s 215ms/step - loss: 0.2689 - accuracy: 0.8933 - val_loss: 0.3229 - val_accuracy: 0.8658\n",
      "Epoch 5/5\n",
      "157/157 [==============================] - 34s 216ms/step - loss: 0.2438 - accuracy: 0.9040 - val_loss: 0.3265 - val_accuracy: 0.8668\n",
      "782/782 [==============================] - 30s 38ms/step - loss: 0.3290 - accuracy: 0.8616\n",
      "listo\n"
     ]
    }
   ],
   "source": [
    "print(\"\\nTraining Elman RNN model on long sequences:\")\n",
    "rnn_model_long = build_elman_rnn_model()\n",
    "loss_long, accuracy_long, history_long = train_and_evaluate_model(\n",
    "    rnn_model_long, x_train_long, y_train, x_test_long, y_test\n",
    ")\n",
    "print(\"listo\")"
   ]
  },
  {
   "cell_type": "code",
   "execution_count": 10,
   "id": "b775cc43-9f49-48f7-a38d-980202832afa",
   "metadata": {},
   "outputs": [
    {
     "name": "stdout",
     "output_type": "stream",
     "text": [
      "\n",
      "Results on Short Sequences:\n",
      "Loss: 0.3871, Accuracy: 0.8386\n",
      "\n",
      "Results on Long Sequences:\n",
      "Loss: 0.3290, Accuracy: 0.8616\n"
     ]
    }
   ],
   "source": [
    "print(\"\\nResults on Short Sequences:\")\n",
    "print(f\"Loss: {loss_short:.4f}, Accuracy: {accuracy_short:.4f}\")\n",
    "\n",
    "print(\"\\nResults on Long Sequences:\")\n",
    "print(f\"Loss: {loss_long:.4f}, Accuracy: {accuracy_long:.4f}\")"
   ]
  },
  {
   "cell_type": "code",
   "execution_count": null,
   "id": "58a72de3-21c1-45a8-801a-76985f5398f1",
   "metadata": {},
   "outputs": [],
   "source": []
  }
 ],
 "metadata": {
  "kernelspec": {
   "display_name": "Python 3 (ipykernel)",
   "language": "python",
   "name": "python3"
  },
  "language_info": {
   "codemirror_mode": {
    "name": "ipython",
    "version": 3
   },
   "file_extension": ".py",
   "mimetype": "text/x-python",
   "name": "python",
   "nbconvert_exporter": "python",
   "pygments_lexer": "ipython3",
   "version": "3.10.9"
  }
 },
 "nbformat": 4,
 "nbformat_minor": 5
}
