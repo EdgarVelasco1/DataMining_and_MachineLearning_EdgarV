{
 "cells": [
  {
   "cell_type": "code",
   "execution_count": 3,
   "id": "5a51a612-763f-44f7-b14b-256cd9bbdbba",
   "metadata": {},
   "outputs": [
    {
     "name": "stdout",
     "output_type": "stream",
     "text": [
      "Defaulting to user installation because normal site-packages is not writeable\n",
      "Collecting yfinance\n",
      "  Downloading yfinance-0.2.28-py2.py3-none-any.whl (65 kB)\n",
      "     -------------------------------------- 65.3/65.3 kB 320.2 kB/s eta 0:00:00\n",
      "Requirement already satisfied: beautifulsoup4>=4.11.1 in c:\\programdata\\anaconda3\\lib\\site-packages (from yfinance) (4.11.1)\n",
      "Collecting multitasking>=0.0.7\n",
      "  Downloading multitasking-0.0.11-py3-none-any.whl (8.5 kB)\n",
      "Requirement already satisfied: lxml>=4.9.1 in c:\\programdata\\anaconda3\\lib\\site-packages (from yfinance) (4.9.1)\n",
      "Requirement already satisfied: pytz>=2022.5 in c:\\programdata\\anaconda3\\lib\\site-packages (from yfinance) (2022.7)\n",
      "Requirement already satisfied: numpy>=1.16.5 in c:\\programdata\\anaconda3\\lib\\site-packages (from yfinance) (1.23.5)\n",
      "Collecting html5lib>=1.1\n",
      "  Downloading html5lib-1.1-py2.py3-none-any.whl (112 kB)\n",
      "     ------------------------------------ 112.2/112.2 kB 815.5 kB/s eta 0:00:00\n",
      "Collecting requests>=2.31\n",
      "  Downloading requests-2.31.0-py3-none-any.whl (62 kB)\n",
      "     -------------------------------------- 62.6/62.6 kB 371.2 kB/s eta 0:00:00\n",
      "Requirement already satisfied: pandas>=1.3.0 in c:\\programdata\\anaconda3\\lib\\site-packages (from yfinance) (1.5.3)\n",
      "Collecting frozendict>=2.3.4\n",
      "  Downloading frozendict-2.3.8-cp310-cp310-win_amd64.whl (35 kB)\n",
      "Requirement already satisfied: appdirs>=1.4.4 in c:\\programdata\\anaconda3\\lib\\site-packages (from yfinance) (1.4.4)\n",
      "Requirement already satisfied: soupsieve>1.2 in c:\\programdata\\anaconda3\\lib\\site-packages (from beautifulsoup4>=4.11.1->yfinance) (2.3.2.post1)\n",
      "Requirement already satisfied: webencodings in c:\\programdata\\anaconda3\\lib\\site-packages (from html5lib>=1.1->yfinance) (0.5.1)\n",
      "Requirement already satisfied: six>=1.9 in c:\\programdata\\anaconda3\\lib\\site-packages (from html5lib>=1.1->yfinance) (1.16.0)\n",
      "Requirement already satisfied: python-dateutil>=2.8.1 in c:\\programdata\\anaconda3\\lib\\site-packages (from pandas>=1.3.0->yfinance) (2.8.2)\n",
      "Requirement already satisfied: certifi>=2017.4.17 in c:\\programdata\\anaconda3\\lib\\site-packages (from requests>=2.31->yfinance) (2023.5.7)\n",
      "Requirement already satisfied: idna<4,>=2.5 in c:\\programdata\\anaconda3\\lib\\site-packages (from requests>=2.31->yfinance) (3.4)\n",
      "Requirement already satisfied: charset-normalizer<4,>=2 in c:\\programdata\\anaconda3\\lib\\site-packages (from requests>=2.31->yfinance) (2.0.4)\n",
      "Requirement already satisfied: urllib3<3,>=1.21.1 in c:\\programdata\\anaconda3\\lib\\site-packages (from requests>=2.31->yfinance) (1.26.14)\n",
      "Installing collected packages: multitasking, requests, html5lib, frozendict, yfinance\n",
      "Successfully installed frozendict-2.3.8 html5lib-1.1 multitasking-0.0.11 requests-2.31.0 yfinance-0.2.28\n",
      "listo\n"
     ]
    },
    {
     "name": "stderr",
     "output_type": "stream",
     "text": [
      "  WARNING: The script sample.exe is installed in 'C:\\Users\\Edgar\\AppData\\Roaming\\Python\\Python310\\Scripts' which is not on PATH.\n",
      "  Consider adding this directory to PATH or, if you prefer to suppress this warning, use --no-warn-script-location.\n",
      "ERROR: pip's dependency resolver does not currently take into account all the packages that are installed. This behaviour is the source of the following dependency conflicts.\n",
      "open-clip-torch 2.20.0 requires ftfy, which is not installed.\n",
      "open-clip-torch 2.20.0 requires sentencepiece, which is not installed.\n",
      "open-clip-torch 2.20.0 requires timm, which is not installed.\n",
      "conda-repo-cli 1.0.41 requires requests_mock, which is not installed.\n",
      "open-clip-torch 2.20.0 requires protobuf<4, but you have protobuf 4.23.4 which is incompatible.\n",
      "conda-repo-cli 1.0.41 requires clyent==1.2.1, but you have clyent 1.2.2 which is incompatible.\n",
      "conda-repo-cli 1.0.41 requires nbformat==5.4.0, but you have nbformat 5.7.0 which is incompatible.\n",
      "conda-repo-cli 1.0.41 requires requests==2.28.1, but you have requests 2.31.0 which is incompatible.\n"
     ]
    }
   ],
   "source": [
    "!pip install yfinance\n",
    "print(\"listo\")"
   ]
  },
  {
   "cell_type": "code",
   "execution_count": 1,
   "id": "44d6c8fe-2c71-492e-97ca-e1389836d93d",
   "metadata": {},
   "outputs": [
    {
     "name": "stdout",
     "output_type": "stream",
     "text": [
      "listo\n"
     ]
    }
   ],
   "source": [
    "import yfinance as yf\n",
    "import numpy as np\n",
    "import tensorflow as tf\n",
    "from tensorflow.keras.models import Sequential\n",
    "from tensorflow.keras.layers import LSTM, Dense\n",
    "from sklearn.preprocessing import MinMaxScaler\n",
    "\n",
    "print(\"listo\")\n"
   ]
  },
  {
   "cell_type": "code",
   "execution_count": 2,
   "id": "4636c9d9-a5de-43cb-8eda-ed3d42a8db8d",
   "metadata": {},
   "outputs": [
    {
     "name": "stdout",
     "output_type": "stream",
     "text": [
      "listo\n"
     ]
    }
   ],
   "source": [
    "# Fetch historical stock data using yfinance\n",
    "stock_symbol = \"AAPL\"\n",
    "start_date = \"2020-01-01\"\n",
    "end_date = \"2023-01-01\"\n",
    "stock_data = yf.download(stock_symbol, start=start_date, end=end_date, progress=False)\n",
    "\n",
    "# Extract the 'Close' prices\n",
    "stock_prices = stock_data[\"Close\"].values.reshape(-1, 1)\n",
    "print(\"listo\")"
   ]
  },
  {
   "cell_type": "markdown",
   "id": "d473b0db-df58-4bbf-935b-8368881648fa",
   "metadata": {},
   "source": [
    "## Dividimos los datos "
   ]
  },
  {
   "cell_type": "code",
   "execution_count": 3,
   "id": "86d649e6-0b80-4e9c-bda0-68d523325afb",
   "metadata": {},
   "outputs": [
    {
     "name": "stdout",
     "output_type": "stream",
     "text": [
      "listo\n"
     ]
    }
   ],
   "source": [
    "train_size = int(len(stock_prices) * 0.8)\n",
    "train_data = stock_prices[:train_size]\n",
    "test_data = stock_prices[train_size:]\n",
    "print(\"listo\")"
   ]
  },
  {
   "cell_type": "markdown",
   "id": "388f896d-3802-49c0-9f6b-6a166c7db473",
   "metadata": {},
   "source": [
    "## Normalizamos los datos"
   ]
  },
  {
   "cell_type": "code",
   "execution_count": 4,
   "id": "3a768730-a3c5-4bfe-89a0-3e1220b6e009",
   "metadata": {},
   "outputs": [
    {
     "name": "stdout",
     "output_type": "stream",
     "text": [
      "listo\n"
     ]
    }
   ],
   "source": [
    "scaler = MinMaxScaler()\n",
    "train_data_normalized = scaler.fit_transform(train_data)\n",
    "test_data_normalized = scaler.transform(test_data)\n",
    "print(\"listo\")"
   ]
  },
  {
   "cell_type": "markdown",
   "id": "ad14051d-ac1e-4c59-b6f0-d3c6a71a7b98",
   "metadata": {},
   "source": [
    "## Creamos la secuencia"
   ]
  },
  {
   "cell_type": "code",
   "execution_count": 5,
   "id": "e6a9d399-4cd8-4297-a57b-52c896d8f863",
   "metadata": {},
   "outputs": [
    {
     "name": "stdout",
     "output_type": "stream",
     "text": [
      "listo\n"
     ]
    }
   ],
   "source": [
    "def create_sequences(data, sequence_length):\n",
    "    sequences = []\n",
    "    for i in range(len(data) - sequence_length):\n",
    "        seq = data[i:i + sequence_length]\n",
    "        sequences.append(seq)\n",
    "    return np.array(sequences)\n",
    "print(\"listo\")"
   ]
  },
  {
   "cell_type": "markdown",
   "id": "8e39b92a-d740-449d-b149-7a9b76fed807",
   "metadata": {},
   "source": [
    "## Definimos la longitud de las secuencias de entrada"
   ]
  },
  {
   "cell_type": "code",
   "execution_count": 6,
   "id": "93d525e5-7143-45b9-9742-6232088a41ae",
   "metadata": {},
   "outputs": [
    {
     "name": "stdout",
     "output_type": "stream",
     "text": [
      "listo\n"
     ]
    }
   ],
   "source": [
    "sequence_length = 10  \n",
    "train_sequences = create_sequences(train_data_normalized, sequence_length)\n",
    "test_sequences = create_sequences(test_data_normalized, sequence_length)\n",
    "print(\"listo\")"
   ]
  },
  {
   "cell_type": "markdown",
   "id": "90d78447-77e3-4ab1-8f25-b26205389850",
   "metadata": {},
   "source": [
    "# Creamos el modelo LSTM con tres capas LSTM seguida de tres capas densas para regresion"
   ]
  },
  {
   "cell_type": "markdown",
   "id": "b39e3beb-b749-419f-a85f-9b6d507adeb1",
   "metadata": {},
   "source": [
    "## Definimos el modelo"
   ]
  },
  {
   "cell_type": "code",
   "execution_count": 7,
   "id": "1634b7c1-7d6a-4b6c-8b6d-82e5fd917770",
   "metadata": {},
   "outputs": [
    {
     "name": "stdout",
     "output_type": "stream",
     "text": [
      "listo\n"
     ]
    }
   ],
   "source": [
    "model = Sequential()\n",
    "print(\"listo\")"
   ]
  },
  {
   "cell_type": "markdown",
   "id": "10bab1b1-dfac-4fe7-8fce-2a862f57b620",
   "metadata": {},
   "source": [
    "## Agregamos capas LSTM"
   ]
  },
  {
   "cell_type": "code",
   "execution_count": null,
   "id": "64df345d-6e29-4186-bf8a-f1a5bf352a4d",
   "metadata": {},
   "outputs": [
    {
     "name": "stdout",
     "output_type": "stream",
     "text": [
      "listo\n"
     ]
    }
   ],
   "source": [
    "model.add(LSTM(units=50, return_sequences=True, input_shape=(sequence_length, 1)))\n",
    "model.add(LSTM(units=50, return_sequences=True))\n",
    "model.add(LSTM(units=50))\n",
    "print(\"listo\")"
   ]
  },
  {
   "cell_type": "markdown",
   "id": "49745879-bfc8-46bc-8dd3-d9c771fdd16f",
   "metadata": {},
   "source": [
    "## Agregar capas densas de regresión"
   ]
  },
  {
   "cell_type": "code",
   "execution_count": null,
   "id": "4ebab47f-6cad-49fd-99a1-46dcaa2121e0",
   "metadata": {},
   "outputs": [
    {
     "name": "stdout",
     "output_type": "stream",
     "text": [
      "listo\n"
     ]
    }
   ],
   "source": [
    "model.add(Dense(units=25, activation='relu'))\n",
    "model.add(Dense(units=10, activation='relu'))\n",
    "model.add(Dense(units=1))  # Capa de salida para la regresión\n",
    "print(\"listo\")"
   ]
  },
  {
   "cell_type": "code",
   "execution_count": 11,
   "id": "4bf6c11a-db29-4052-9899-a758e81da29a",
   "metadata": {},
   "outputs": [
    {
     "name": "stdout",
     "output_type": "stream",
     "text": [
      "Model: \"sequential\"\n",
      "_________________________________________________________________\n",
      " Layer (type)                Output Shape              Param #   \n",
      "=================================================================\n",
      " lstm (LSTM)                 (None, 10, 50)            10400     \n",
      "                                                                 \n",
      " lstm_1 (LSTM)               (None, 10, 50)            20200     \n",
      "                                                                 \n",
      " lstm_2 (LSTM)               (None, 50)                20200     \n",
      "                                                                 \n",
      " dense (Dense)               (None, 25)                1275      \n",
      "                                                                 \n",
      " dense_1 (Dense)             (None, 10)                260       \n",
      "                                                                 \n",
      " dense_2 (Dense)             (None, 1)                 11        \n",
      "                                                                 \n",
      "=================================================================\n",
      "Total params: 52346 (204.48 KB)\n",
      "Trainable params: 52346 (204.48 KB)\n",
      "Non-trainable params: 0 (0.00 Byte)\n",
      "_________________________________________________________________\n",
      "Epoch 1/100\n",
      "10/10 [==============================] - 9s 31ms/step - loss: 0.2644\n",
      "Epoch 2/100\n",
      "10/10 [==============================] - 0s 32ms/step - loss: 0.0382\n",
      "Epoch 3/100\n",
      "10/10 [==============================] - 0s 33ms/step - loss: 0.0183\n",
      "Epoch 4/100\n",
      "10/10 [==============================] - 0s 32ms/step - loss: 0.0108\n",
      "Epoch 5/100\n",
      "10/10 [==============================] - 0s 31ms/step - loss: 0.0071\n",
      "Epoch 6/100\n",
      "10/10 [==============================] - 0s 30ms/step - loss: 0.0040\n",
      "Epoch 7/100\n",
      "10/10 [==============================] - 0s 30ms/step - loss: 0.0026\n",
      "Epoch 8/100\n",
      "10/10 [==============================] - 0s 32ms/step - loss: 0.0023\n",
      "Epoch 9/100\n",
      "10/10 [==============================] - 0s 32ms/step - loss: 0.0023\n",
      "Epoch 10/100\n",
      "10/10 [==============================] - 0s 32ms/step - loss: 0.0022\n",
      "Epoch 11/100\n",
      "10/10 [==============================] - 0s 32ms/step - loss: 0.0022\n",
      "Epoch 12/100\n",
      "10/10 [==============================] - 0s 32ms/step - loss: 0.0022\n",
      "Epoch 13/100\n",
      "10/10 [==============================] - 0s 30ms/step - loss: 0.0022\n",
      "Epoch 14/100\n",
      "10/10 [==============================] - 0s 32ms/step - loss: 0.0021\n",
      "Epoch 15/100\n",
      "10/10 [==============================] - 0s 32ms/step - loss: 0.0020\n",
      "Epoch 16/100\n",
      "10/10 [==============================] - 0s 32ms/step - loss: 0.0021\n",
      "Epoch 17/100\n",
      "10/10 [==============================] - 0s 30ms/step - loss: 0.0021\n",
      "Epoch 18/100\n",
      "10/10 [==============================] - 0s 30ms/step - loss: 0.0020\n",
      "Epoch 19/100\n",
      "10/10 [==============================] - 0s 31ms/step - loss: 0.0020\n",
      "Epoch 20/100\n",
      "10/10 [==============================] - 0s 32ms/step - loss: 0.0021\n",
      "Epoch 21/100\n",
      "10/10 [==============================] - 0s 30ms/step - loss: 0.0020\n",
      "Epoch 22/100\n",
      "10/10 [==============================] - 0s 32ms/step - loss: 0.0021\n",
      "Epoch 23/100\n",
      "10/10 [==============================] - 0s 30ms/step - loss: 0.0021\n",
      "Epoch 24/100\n",
      "10/10 [==============================] - 0s 30ms/step - loss: 0.0023\n",
      "Epoch 25/100\n",
      "10/10 [==============================] - 0s 31ms/step - loss: 0.0020\n",
      "Epoch 26/100\n",
      "10/10 [==============================] - 0s 29ms/step - loss: 0.0021\n",
      "Epoch 27/100\n",
      "10/10 [==============================] - 0s 31ms/step - loss: 0.0022\n",
      "Epoch 28/100\n",
      "10/10 [==============================] - 0s 30ms/step - loss: 0.0021\n",
      "Epoch 29/100\n",
      "10/10 [==============================] - 0s 30ms/step - loss: 0.0023\n",
      "Epoch 30/100\n",
      "10/10 [==============================] - 0s 28ms/step - loss: 0.0028\n",
      "Epoch 31/100\n",
      "10/10 [==============================] - 0s 30ms/step - loss: 0.0022\n",
      "Epoch 32/100\n",
      "10/10 [==============================] - 0s 30ms/step - loss: 0.0020\n",
      "Epoch 33/100\n",
      "10/10 [==============================] - 0s 30ms/step - loss: 0.0020\n",
      "Epoch 34/100\n",
      "10/10 [==============================] - 0s 30ms/step - loss: 0.0020\n",
      "Epoch 35/100\n",
      "10/10 [==============================] - 0s 33ms/step - loss: 0.0020\n",
      "Epoch 36/100\n",
      "10/10 [==============================] - 0s 33ms/step - loss: 0.0020\n",
      "Epoch 37/100\n",
      "10/10 [==============================] - 0s 30ms/step - loss: 0.0020\n",
      "Epoch 38/100\n",
      "10/10 [==============================] - 0s 30ms/step - loss: 0.0019\n",
      "Epoch 39/100\n",
      "10/10 [==============================] - 0s 28ms/step - loss: 0.0019\n",
      "Epoch 40/100\n",
      "10/10 [==============================] - 0s 30ms/step - loss: 0.0020\n",
      "Epoch 41/100\n",
      "10/10 [==============================] - 0s 30ms/step - loss: 0.0021\n",
      "Epoch 42/100\n",
      "10/10 [==============================] - 0s 30ms/step - loss: 0.0020\n",
      "Epoch 43/100\n",
      "10/10 [==============================] - 0s 30ms/step - loss: 0.0020\n",
      "Epoch 44/100\n",
      "10/10 [==============================] - 0s 31ms/step - loss: 0.0020\n",
      "Epoch 45/100\n",
      "10/10 [==============================] - 0s 30ms/step - loss: 0.0020\n",
      "Epoch 46/100\n",
      "10/10 [==============================] - 0s 32ms/step - loss: 0.0021\n",
      "Epoch 47/100\n",
      "10/10 [==============================] - 0s 33ms/step - loss: 0.0020\n",
      "Epoch 48/100\n",
      "10/10 [==============================] - 0s 37ms/step - loss: 0.0020\n",
      "Epoch 49/100\n",
      "10/10 [==============================] - 0s 37ms/step - loss: 0.0020\n",
      "Epoch 50/100\n",
      "10/10 [==============================] - 0s 45ms/step - loss: 0.0019\n",
      "Epoch 51/100\n",
      "10/10 [==============================] - 0s 46ms/step - loss: 0.0021\n",
      "Epoch 52/100\n",
      "10/10 [==============================] - 0s 39ms/step - loss: 0.0022\n",
      "Epoch 53/100\n",
      "10/10 [==============================] - 0s 44ms/step - loss: 0.0021\n",
      "Epoch 54/100\n",
      "10/10 [==============================] - 0s 39ms/step - loss: 0.0020\n",
      "Epoch 55/100\n",
      "10/10 [==============================] - 0s 37ms/step - loss: 0.0021\n",
      "Epoch 56/100\n",
      "10/10 [==============================] - 0s 39ms/step - loss: 0.0020\n",
      "Epoch 57/100\n",
      "10/10 [==============================] - 0s 37ms/step - loss: 0.0019\n",
      "Epoch 58/100\n",
      "10/10 [==============================] - 0s 46ms/step - loss: 0.0020\n",
      "Epoch 59/100\n",
      "10/10 [==============================] - 0s 39ms/step - loss: 0.0023\n",
      "Epoch 60/100\n",
      "10/10 [==============================] - 0s 38ms/step - loss: 0.0019\n",
      "Epoch 61/100\n",
      "10/10 [==============================] - 0s 39ms/step - loss: 0.0019\n",
      "Epoch 62/100\n",
      "10/10 [==============================] - 0s 39ms/step - loss: 0.0020\n",
      "Epoch 63/100\n",
      "10/10 [==============================] - 0s 45ms/step - loss: 0.0018\n",
      "Epoch 64/100\n",
      "10/10 [==============================] - 0s 44ms/step - loss: 0.0019\n",
      "Epoch 65/100\n",
      "10/10 [==============================] - 0s 40ms/step - loss: 0.0018\n",
      "Epoch 66/100\n",
      "10/10 [==============================] - 0s 40ms/step - loss: 0.0018\n",
      "Epoch 67/100\n",
      "10/10 [==============================] - 0s 40ms/step - loss: 0.0019\n",
      "Epoch 68/100\n",
      "10/10 [==============================] - 0s 40ms/step - loss: 0.0018\n",
      "Epoch 69/100\n",
      "10/10 [==============================] - 0s 44ms/step - loss: 0.0018\n",
      "Epoch 70/100\n",
      "10/10 [==============================] - 0s 39ms/step - loss: 0.0019\n",
      "Epoch 71/100\n",
      "10/10 [==============================] - 0s 43ms/step - loss: 0.0018\n",
      "Epoch 72/100\n",
      "10/10 [==============================] - 0s 40ms/step - loss: 0.0018\n",
      "Epoch 73/100\n",
      "10/10 [==============================] - 0s 44ms/step - loss: 0.0018\n",
      "Epoch 74/100\n",
      "10/10 [==============================] - 0s 47ms/step - loss: 0.0018\n",
      "Epoch 75/100\n",
      "10/10 [==============================] - 0s 45ms/step - loss: 0.0019\n",
      "Epoch 76/100\n",
      "10/10 [==============================] - 0s 40ms/step - loss: 0.0019\n",
      "Epoch 77/100\n",
      "10/10 [==============================] - 0s 39ms/step - loss: 0.0019\n",
      "Epoch 78/100\n",
      "10/10 [==============================] - 0s 39ms/step - loss: 0.0020\n",
      "Epoch 79/100\n",
      "10/10 [==============================] - 0s 39ms/step - loss: 0.0020\n",
      "Epoch 80/100\n",
      "10/10 [==============================] - 0s 41ms/step - loss: 0.0018\n",
      "Epoch 81/100\n",
      "10/10 [==============================] - 0s 40ms/step - loss: 0.0019\n",
      "Epoch 82/100\n",
      "10/10 [==============================] - 0s 41ms/step - loss: 0.0019\n",
      "Epoch 83/100\n",
      "10/10 [==============================] - 0s 49ms/step - loss: 0.0018\n",
      "Epoch 84/100\n",
      "10/10 [==============================] - 0s 39ms/step - loss: 0.0018\n",
      "Epoch 85/100\n",
      "10/10 [==============================] - 0s 44ms/step - loss: 0.0019\n",
      "Epoch 86/100\n",
      "10/10 [==============================] - 0s 41ms/step - loss: 0.0017\n",
      "Epoch 87/100\n",
      "10/10 [==============================] - 0s 43ms/step - loss: 0.0017\n",
      "Epoch 88/100\n",
      "10/10 [==============================] - 0s 40ms/step - loss: 0.0017\n",
      "Epoch 89/100\n",
      "10/10 [==============================] - 0s 41ms/step - loss: 0.0017\n",
      "Epoch 90/100\n",
      "10/10 [==============================] - 0s 46ms/step - loss: 0.0017\n",
      "Epoch 91/100\n",
      "10/10 [==============================] - 0s 40ms/step - loss: 0.0017\n",
      "Epoch 92/100\n",
      "10/10 [==============================] - 0s 38ms/step - loss: 0.0017\n",
      "Epoch 93/100\n",
      "10/10 [==============================] - 0s 39ms/step - loss: 0.0018\n",
      "Epoch 94/100\n",
      "10/10 [==============================] - 0s 39ms/step - loss: 0.0017\n",
      "Epoch 95/100\n",
      "10/10 [==============================] - 0s 37ms/step - loss: 0.0016\n",
      "Epoch 96/100\n",
      "10/10 [==============================] - 0s 43ms/step - loss: 0.0016\n",
      "Epoch 97/100\n",
      "10/10 [==============================] - 0s 44ms/step - loss: 0.0016\n",
      "Epoch 98/100\n",
      "10/10 [==============================] - 0s 41ms/step - loss: 0.0016\n",
      "Epoch 99/100\n",
      "10/10 [==============================] - 0s 44ms/step - loss: 0.0016\n",
      "Epoch 100/100\n",
      "10/10 [==============================] - 0s 37ms/step - loss: 0.0015\n",
      "listo\n"
     ]
    }
   ],
   "source": [
    "model.compile(optimizer='adam', loss='mean_squared_error')\n",
    "model.summary()\n",
    "\n",
    "# Entrenamos el modelo\n",
    "model.fit(train_sequences, train_data_normalized[sequence_length:], epochs=100, batch_size=64)\n",
    "\n",
    "print(\"listo\")"
   ]
  },
  {
   "cell_type": "markdown",
   "id": "eaf4fc31-af2c-49e8-bf91-eede0d20cda6",
   "metadata": {},
   "source": [
    "## Realizamos predicciones y evaluamos el modelo"
   ]
  },
  {
   "cell_type": "code",
   "execution_count": 12,
   "id": "5c6c7cc0-cb53-4cee-8566-067f20d15ee5",
   "metadata": {},
   "outputs": [
    {
     "name": "stdout",
     "output_type": "stream",
     "text": [
      "5/5 [==============================] - 1s 9ms/step\n",
      "MSE: 52.45588705122748\n",
      "RMSE: 7.242643650713976\n"
     ]
    }
   ],
   "source": [
    "## Hacer predicciones en el conjunto de prueba\n",
    "test_predictions = model.predict(test_sequences)\n",
    "\n",
    "## Invertir la normalización en las predicciones\n",
    "test_predictions = scaler.inverse_transform(test_predictions)\n",
    "\n",
    "## Invertir la normalización en los datos de prueba reales\n",
    "test_actual = scaler.inverse_transform(test_data_normalized[sequence_length:])\n",
    "\n",
    "## Calcular el MSE y RMSE\n",
    "from sklearn.metrics import mean_squared_error\n",
    "mse = mean_squared_error(test_actual, test_predictions)\n",
    "rmse = np.sqrt(mse)\n",
    "\n",
    "print(f'MSE: {mse}')\n",
    "print(f'RMSE: {rmse}')"
   ]
  },
  {
   "cell_type": "code",
   "execution_count": null,
   "id": "5c0647fc-5ce2-46aa-b4d3-d718db58d2e2",
   "metadata": {},
   "outputs": [],
   "source": []
  }
 ],
 "metadata": {
  "kernelspec": {
   "display_name": "Python 3 (ipykernel)",
   "language": "python",
   "name": "python3"
  },
  "language_info": {
   "codemirror_mode": {
    "name": "ipython",
    "version": 3
   },
   "file_extension": ".py",
   "mimetype": "text/x-python",
   "name": "python",
   "nbconvert_exporter": "python",
   "pygments_lexer": "ipython3",
   "version": "3.10.9"
  }
 },
 "nbformat": 4,
 "nbformat_minor": 5
}
