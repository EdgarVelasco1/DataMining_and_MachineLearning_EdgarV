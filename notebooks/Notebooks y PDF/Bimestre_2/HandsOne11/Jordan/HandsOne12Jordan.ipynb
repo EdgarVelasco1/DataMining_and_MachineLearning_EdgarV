{
 "cells": [
  {
   "cell_type": "markdown",
   "id": "ea9d9ae2-6374-44ad-b8b1-dcf5b72f5d19",
   "metadata": {
    "tags": []
   },
   "source": [
    "# RNN con el modelo Jordan"
   ]
  },
  {
   "cell_type": "code",
   "execution_count": 74,
   "id": "8ca4b248-66dd-4014-bff8-d3e95416de08",
   "metadata": {},
   "outputs": [
    {
     "name": "stdout",
     "output_type": "stream",
     "text": [
      "listo\n"
     ]
    }
   ],
   "source": [
    "from keras.datasets import imdb\n",
    "from keras.preprocessing import sequence\n",
    "from keras.models import Sequential\n",
    "from keras.layers import GlobalMaxPooling1D\n",
    "import numpy as np\n",
    "from keras.layers import Embedding, SimpleRNN, Dense, Bidirectional\n",
    "\n",
    "print(\"listo\")"
   ]
  },
  {
   "cell_type": "markdown",
   "id": "fb6a6f25-cae1-474e-bc2e-63067e94a290",
   "metadata": {},
   "source": [
    "## definimos el numero de secuencias, para un entrenamiento de secuencias largas y cortas y los dividimos en valores de entrenamiento y testeo"
   ]
  },
  {
   "cell_type": "code",
   "execution_count": 75,
   "id": "3001a55c-5542-4668-986e-127ef0ec1edc",
   "metadata": {},
   "outputs": [
    {
     "name": "stdout",
     "output_type": "stream",
     "text": [
      "listo\n"
     ]
    }
   ],
   "source": [
    "max_features = 5000  # Number of words to consider as features\n",
    "max_len_short = 100  # Maximum sequence length for short sequences\n",
    "max_len_long = 500   # Maximum sequence length for long sequences\n",
    "\n",
    "##y_train = np.expand_dims(y_train, axis=1)\n",
    "##y_test = np.expand_dims(y_test, axis=1)\n",
    "\n",
    "(x_train, y_train), (x_test, y_test) = imdb.load_data(num_words=max_features)\n",
    "\n",
    "print(\"listo\")"
   ]
  },
  {
   "cell_type": "markdown",
   "id": "c3b108db-243a-4850-835d-9a47997aa0ac",
   "metadata": {},
   "source": [
    "## dividimos en Padings los datos de entrenamiento y testeo"
   ]
  },
  {
   "cell_type": "code",
   "execution_count": 76,
   "id": "3057accc-8bba-4108-be51-e0eb87bc5cff",
   "metadata": {},
   "outputs": [
    {
     "name": "stdout",
     "output_type": "stream",
     "text": [
      "listo\n"
     ]
    }
   ],
   "source": [
    "x_train_short = sequence.pad_sequences(x_train, maxlen=max_len_short)\n",
    "x_test_short = sequence.pad_sequences(x_test, maxlen=max_len_short)\n",
    "\n",
    "x_train_long = sequence.pad_sequences(x_train, maxlen=max_len_long)\n",
    "x_test_long = sequence.pad_sequences(x_test, maxlen=max_len_long)\n",
    "print(\"listo\")"
   ]
  },
  {
   "cell_type": "markdown",
   "id": "ccbaddf2-df64-4b71-9d23-ad7c62ba9d90",
   "metadata": {},
   "source": [
    "## definimos los modelos que vamos a utilizar mediante estas funciones ya sea modelo Elman Jordan o bidireccional"
   ]
  },
  {
   "cell_type": "code",
   "execution_count": 77,
   "id": "ccfb454d-215a-41e7-8f5d-aeebc08e9138",
   "metadata": {},
   "outputs": [
    {
     "name": "stdout",
     "output_type": "stream",
     "text": [
      "listo\n"
     ]
    }
   ],
   "source": [
    "def build_elman_rnn_model():\n",
    "    model = Sequential()\n",
    "    model.add(Embedding(max_features, 32))\n",
    "    model.add(SimpleRNN(32, activation='relu'))\n",
    "    model.add(Dense(1, activation='sigmoid'))\n",
    "    return model\n",
    "\n",
    "def build_jordan_rnn_model():\n",
    "    model = Sequential()\n",
    "    model.add(Embedding(max_features, 32))\n",
    "    model.add(SimpleRNN(32, activation='relu', return_sequences=True))\n",
    "    model.add(GlobalMaxPooling1D())\n",
    "    model.add(Dense(1, activation='sigmoid'))\n",
    "    return model\n",
    "\n",
    "def build_bidirectional_rnn_model():\n",
    "    model = Sequential()\n",
    "    model.add(Embedding(max_features, 32))\n",
    "    model.add(Bidirectional(SimpleRNN(32, activation='relu')))\n",
    "    model.add(Dense(1, activation='sigmoid'))\n",
    "    return model\n",
    "print(\"listo\")"
   ]
  },
  {
   "cell_type": "markdown",
   "id": "c7d91db4-b155-4629-9df9-e39075619d3b",
   "metadata": {},
   "source": [
    "## definimos una función de entrenamiento con su optimizador y función de perdida que evalua al modelo mediante los valores de perdida y el accuracy, podemos tambien configurar el numero de Epocas y el tamaño del batch"
   ]
  },
  {
   "cell_type": "code",
   "execution_count": 78,
   "id": "89cc50e1-ec5e-4797-9dda-344b32c55af2",
   "metadata": {},
   "outputs": [
    {
     "name": "stdout",
     "output_type": "stream",
     "text": [
      "listo\n"
     ]
    }
   ],
   "source": [
    "def train_and_evaluate_model(model, x_train, y_train, x_test, y_test):\n",
    "    model.compile(optimizer='adam', loss='binary_crossentropy', metrics=['accuracy'])\n",
    "    history = model.fit(x_train, y_train, epochs=5, batch_size=128, validation_split=0.2)\n",
    "    loss, accuracy = model.evaluate(x_test, y_test)\n",
    "    return loss, accuracy, history\n",
    "print(\"listo\")"
   ]
  },
  {
   "cell_type": "markdown",
   "id": "0f4c83ce-945d-41f1-ad19-45a86f4dc213",
   "metadata": {},
   "source": [
    "## Procedemos a seleccionar el modelo y entrenarlo "
   ]
  },
  {
   "cell_type": "code",
   "execution_count": 79,
   "id": "8a8aa9a4-7c7f-483f-a48b-f3886ded2a2f",
   "metadata": {},
   "outputs": [
    {
     "name": "stdout",
     "output_type": "stream",
     "text": [
      "\n",
      "Training RNN model on short sequences:\n",
      "Epoch 1/5\n",
      "157/157 [==============================] - 9s 49ms/step - loss: 0.6265 - accuracy: 0.6953 - val_loss: 0.4889 - val_accuracy: 0.7794\n",
      "Epoch 2/5\n",
      "157/157 [==============================] - 7s 46ms/step - loss: 0.3901 - accuracy: 0.8288 - val_loss: 0.3734 - val_accuracy: 0.8350\n",
      "Epoch 3/5\n",
      "157/157 [==============================] - 8s 53ms/step - loss: 0.2914 - accuracy: 0.8791 - val_loss: 0.3799 - val_accuracy: 0.8270\n",
      "Epoch 4/5\n",
      "157/157 [==============================] - 7s 47ms/step - loss: 0.2388 - accuracy: 0.9065 - val_loss: 0.3909 - val_accuracy: 0.8266\n",
      "Epoch 5/5\n",
      "157/157 [==============================] - 8s 48ms/step - loss: 0.2008 - accuracy: 0.9230 - val_loss: 0.4284 - val_accuracy: 0.8202\n",
      "782/782 [==============================] - 7s 9ms/step - loss: 0.4302 - accuracy: 0.8244\n",
      "listo\n"
     ]
    }
   ],
   "source": [
    "print(\"\\nTraining RNN model on short sequences:\")\n",
    "rnn_model_short = build_jordan_rnn_model()\n",
    "loss_short, accuracy_short, history_short = train_and_evaluate_model(\n",
    "    rnn_model_short, x_train_short, y_train, x_test_short, y_test\n",
    ")\n",
    "print(\"listo\")"
   ]
  },
  {
   "cell_type": "code",
   "execution_count": 80,
   "id": "acff43e3-f023-4837-94a7-6bbaa025ad40",
   "metadata": {},
   "outputs": [
    {
     "name": "stdout",
     "output_type": "stream",
     "text": [
      "\n",
      "Training Elman RNN model on long sequences:\n",
      "Epoch 1/5\n",
      "157/157 [==============================] - 36s 217ms/step - loss: 0.5949 - accuracy: 0.7323 - val_loss: 0.3802 - val_accuracy: 0.8350\n",
      "Epoch 2/5\n",
      "157/157 [==============================] - 36s 227ms/step - loss: 0.3213 - accuracy: 0.8658 - val_loss: 0.3212 - val_accuracy: 0.8638\n",
      "Epoch 3/5\n",
      "157/157 [==============================] - 44s 281ms/step - loss: 0.2397 - accuracy: 0.9041 - val_loss: 0.3012 - val_accuracy: 0.8758\n",
      "Epoch 4/5\n",
      "157/157 [==============================] - 47s 300ms/step - loss: 0.1931 - accuracy: 0.9264 - val_loss: 0.3241 - val_accuracy: 0.8702\n",
      "Epoch 5/5\n",
      "157/157 [==============================] - 36s 228ms/step - loss: 0.1643 - accuracy: 0.9395 - val_loss: 0.3367 - val_accuracy: 0.8702\n",
      "782/782 [==============================] - 29s 37ms/step - loss: 0.3431 - accuracy: 0.8632\n",
      "listo\n"
     ]
    }
   ],
   "source": [
    "print(\"\\nTraining Elman RNN model on long sequences:\")\n",
    "rnn_model_long = build_jordan_rnn_model()\n",
    "loss_long, accuracy_long, history_long = train_and_evaluate_model(\n",
    "    rnn_model_long, x_train_long, y_train, x_test_long, y_test\n",
    ")\n",
    "print(\"listo\")"
   ]
  },
  {
   "cell_type": "code",
   "execution_count": 81,
   "id": "d35802f0-a3b5-454f-ab1a-6c56a9d6693c",
   "metadata": {},
   "outputs": [
    {
     "name": "stdout",
     "output_type": "stream",
     "text": [
      "\n",
      "Results on Short Sequences:\n",
      "Loss: 0.4302, Accuracy: 0.8244\n",
      "\n",
      "Results on Long Sequences:\n",
      "Loss: 0.3431, Accuracy: 0.8632\n"
     ]
    }
   ],
   "source": [
    "print(\"\\nResults on Short Sequences:\")\n",
    "print(f\"Loss: {loss_short:.4f}, Accuracy: {accuracy_short:.4f}\")\n",
    "\n",
    "print(\"\\nResults on Long Sequences:\")\n",
    "print(f\"Loss: {loss_long:.4f}, Accuracy: {accuracy_long:.4f}\")"
   ]
  },
  {
   "cell_type": "code",
   "execution_count": null,
   "id": "0fe4752a-21fc-4052-a1c1-ba9ed2fb549c",
   "metadata": {},
   "outputs": [],
   "source": []
  }
 ],
 "metadata": {
  "kernelspec": {
   "display_name": "Python 3 (ipykernel)",
   "language": "python",
   "name": "python3"
  },
  "language_info": {
   "codemirror_mode": {
    "name": "ipython",
    "version": 3
   },
   "file_extension": ".py",
   "mimetype": "text/x-python",
   "name": "python",
   "nbconvert_exporter": "python",
   "pygments_lexer": "ipython3",
   "version": "3.10.9"
  }
 },
 "nbformat": 4,
 "nbformat_minor": 5
}
