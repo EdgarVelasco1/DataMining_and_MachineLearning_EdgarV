{
 "cells": [
  {
   "cell_type": "markdown",
   "id": "64379003-a167-4787-8ad8-a9142958e418",
   "metadata": {
    "tags": []
   },
   "source": [
    "# RNN con el modelo Bidireccional"
   ]
  },
  {
   "cell_type": "code",
   "execution_count": 1,
   "id": "1c77c3f7-7d4a-40d1-b993-65e46d1fe6ce",
   "metadata": {},
   "outputs": [
    {
     "name": "stdout",
     "output_type": "stream",
     "text": [
      "listo\n"
     ]
    }
   ],
   "source": [
    "from keras.datasets import imdb\n",
    "from keras.preprocessing import sequence\n",
    "from keras.models import Sequential\n",
    "from keras.layers import GlobalMaxPooling1D\n",
    "import numpy as np\n",
    "from keras.layers import Embedding, SimpleRNN, Dense, Bidirectional\n",
    "\n",
    "print(\"listo\")"
   ]
  },
  {
   "cell_type": "markdown",
   "id": "b7c9e8e8-0254-403d-ae70-940b853623b9",
   "metadata": {},
   "source": [
    "## definimos el numero de secuencias, para un entrenamiento de secuencias largas y cortas y los dividimos en valores de entrenamiento y testeo"
   ]
  },
  {
   "cell_type": "code",
   "execution_count": 2,
   "id": "376715e6-1bbf-4f33-8ee1-d10142f41d0f",
   "metadata": {},
   "outputs": [
    {
     "name": "stdout",
     "output_type": "stream",
     "text": [
      "listo\n"
     ]
    }
   ],
   "source": [
    "max_features = 5000  # Number of words to consider as features\n",
    "max_len_short = 100  # Maximum sequence length for short sequences\n",
    "max_len_long = 500   # Maximum sequence length for long sequences\n",
    "\n",
    "##y_train = np.expand_dims(y_train, axis=1)\n",
    "##y_test = np.expand_dims(y_test, axis=1)\n",
    "\n",
    "(x_train, y_train), (x_test, y_test) = imdb.load_data(num_words=max_features)\n",
    "\n",
    "print(\"listo\")"
   ]
  },
  {
   "cell_type": "markdown",
   "id": "34e33d7f-aaee-4e6d-9bce-00bcc2774a12",
   "metadata": {},
   "source": [
    "## dividimos en Padings los datos de entrenamiento y testeo"
   ]
  },
  {
   "cell_type": "code",
   "execution_count": 3,
   "id": "7d5b9c90-08bf-484f-941f-606e2cb8bda9",
   "metadata": {},
   "outputs": [
    {
     "name": "stdout",
     "output_type": "stream",
     "text": [
      "listo\n"
     ]
    }
   ],
   "source": [
    "x_train_short = sequence.pad_sequences(x_train, maxlen=max_len_short)\n",
    "x_test_short = sequence.pad_sequences(x_test, maxlen=max_len_short)\n",
    "\n",
    "x_train_long = sequence.pad_sequences(x_train, maxlen=max_len_long)\n",
    "x_test_long = sequence.pad_sequences(x_test, maxlen=max_len_long)\n",
    "print(\"listo\")"
   ]
  },
  {
   "cell_type": "markdown",
   "id": "2e4dc723-57af-4432-916f-3566dd9cd850",
   "metadata": {},
   "source": [
    "## definimos los modelos que vamos a utilizar mediante estas funciones ya sea modelo Elman Jordan o bidireccional"
   ]
  },
  {
   "cell_type": "code",
   "execution_count": 4,
   "id": "aa0eca13-a016-4638-a263-90a6cf6a59ca",
   "metadata": {},
   "outputs": [
    {
     "name": "stdout",
     "output_type": "stream",
     "text": [
      "listo\n"
     ]
    }
   ],
   "source": [
    "def build_elman_rnn_model():\n",
    "    model = Sequential()\n",
    "    model.add(Embedding(max_features, 32))\n",
    "    model.add(SimpleRNN(32, activation='relu'))\n",
    "    model.add(Dense(1, activation='sigmoid'))\n",
    "    return model\n",
    "\n",
    "def build_jordan_rnn_model():\n",
    "    model = Sequential()\n",
    "    model.add(Embedding(max_features, 32))\n",
    "    model.add(SimpleRNN(32, activation='relu', return_sequences=True))\n",
    "    model.add(GlobalMaxPooling1D())\n",
    "    model.add(Dense(1, activation='sigmoid'))\n",
    "    return model\n",
    "\n",
    "def build_bidirectional_rnn_model():\n",
    "    model = Sequential()\n",
    "    model.add(Embedding(max_features, 32))\n",
    "    model.add(Bidirectional(SimpleRNN(32, activation='relu')))\n",
    "    model.add(Dense(1, activation='sigmoid'))\n",
    "    return model\n",
    "print(\"listo\")"
   ]
  },
  {
   "cell_type": "markdown",
   "id": "7d775a33-cebc-4b8f-b37c-8f5a80ccf23f",
   "metadata": {},
   "source": [
    "## definimos una función de entrenamiento con su optimizador y función de perdida que evalua al modelo mediante los valores de perdida y el accuracy, podemos tambien configurar el numero de Epocas y el tamaño del batch"
   ]
  },
  {
   "cell_type": "code",
   "execution_count": 5,
   "id": "3face229-cf27-418d-97bb-85b435284baa",
   "metadata": {},
   "outputs": [
    {
     "name": "stdout",
     "output_type": "stream",
     "text": [
      "listo\n"
     ]
    }
   ],
   "source": [
    "def train_and_evaluate_model(model, x_train, y_train, x_test, y_test):\n",
    "    model.compile(optimizer='adam', loss='binary_crossentropy', metrics=['accuracy'])\n",
    "    history = model.fit(x_train, y_train, epochs=5, batch_size=128, validation_split=0.2)\n",
    "    loss, accuracy = model.evaluate(x_test, y_test)\n",
    "    return loss, accuracy, history\n",
    "print(\"listo\")"
   ]
  },
  {
   "cell_type": "markdown",
   "id": "a85dd525-b53a-457b-994f-e2f66d9733d5",
   "metadata": {},
   "source": [
    "## Procedemos a seleccionar el modelo y entrenarlo "
   ]
  },
  {
   "cell_type": "code",
   "execution_count": 6,
   "id": "fb1856a4-f7b6-43dc-a051-f5c4899063cb",
   "metadata": {},
   "outputs": [
    {
     "name": "stdout",
     "output_type": "stream",
     "text": [
      "\n",
      "Training RNN model on short sequences:\n",
      "Epoch 1/5\n",
      "157/157 [==============================] - 14s 71ms/step - loss: 0.6233 - accuracy: 0.6334 - val_loss: 0.4612 - val_accuracy: 0.7774\n",
      "Epoch 2/5\n",
      "157/157 [==============================] - 10s 65ms/step - loss: 0.3510 - accuracy: 0.8468 - val_loss: 0.3586 - val_accuracy: 0.8422\n",
      "Epoch 3/5\n",
      "157/157 [==============================] - 11s 68ms/step - loss: 0.2725 - accuracy: 0.8905 - val_loss: 0.3925 - val_accuracy: 0.8256\n",
      "Epoch 4/5\n",
      "157/157 [==============================] - 11s 71ms/step - loss: 0.2334 - accuracy: 0.9075 - val_loss: 0.3621 - val_accuracy: 0.8466\n",
      "Epoch 5/5\n",
      "157/157 [==============================] - 11s 67ms/step - loss: 0.2036 - accuracy: 0.9205 - val_loss: 0.3907 - val_accuracy: 0.8406\n",
      "782/782 [==============================] - 11s 14ms/step - loss: 0.3914 - accuracy: 0.8441\n",
      "listo\n"
     ]
    }
   ],
   "source": [
    "print(\"\\nTraining RNN model on short sequences:\")\n",
    "rnn_model_short = build_bidirectional_rnn_model()\n",
    "loss_short, accuracy_short, history_short = train_and_evaluate_model(\n",
    "    rnn_model_short, x_train_short, y_train, x_test_short, y_test\n",
    ")\n",
    "print(\"listo\")"
   ]
  },
  {
   "cell_type": "code",
   "execution_count": 7,
   "id": "9700162d-4507-46ba-8085-891c7591ae53",
   "metadata": {},
   "outputs": [
    {
     "name": "stdout",
     "output_type": "stream",
     "text": [
      "\n",
      "Training Elman RNN model on long sequences:\n",
      "Epoch 1/5\n",
      "157/157 [==============================] - 51s 304ms/step - loss: 0.6336 - accuracy: 0.6330 - val_loss: 0.5062 - val_accuracy: 0.7712\n",
      "Epoch 2/5\n",
      "157/157 [==============================] - 48s 304ms/step - loss: 0.3696 - accuracy: 0.8461 - val_loss: 0.3577 - val_accuracy: 0.8486\n",
      "Epoch 3/5\n",
      "157/157 [==============================] - 49s 310ms/step - loss: 0.2867 - accuracy: 0.8835 - val_loss: 0.3205 - val_accuracy: 0.8700\n",
      "Epoch 4/5\n",
      "157/157 [==============================] - 49s 310ms/step - loss: 0.2436 - accuracy: 0.9060 - val_loss: 0.3214 - val_accuracy: 0.8660\n",
      "Epoch 5/5\n",
      "157/157 [==============================] - 49s 312ms/step - loss: 0.2063 - accuracy: 0.9223 - val_loss: 0.3302 - val_accuracy: 0.8644\n",
      "782/782 [==============================] - 36s 46ms/step - loss: 0.3239 - accuracy: 0.8646\n",
      "listo\n"
     ]
    }
   ],
   "source": [
    "print(\"\\nTraining Elman RNN model on long sequences:\")\n",
    "rnn_model_long = build_bidirectional_rnn_model()\n",
    "loss_long, accuracy_long, history_long = train_and_evaluate_model(\n",
    "    rnn_model_long, x_train_long, y_train, x_test_long, y_test\n",
    ")\n",
    "print(\"listo\")"
   ]
  },
  {
   "cell_type": "code",
   "execution_count": 8,
   "id": "9ed5d1d2-8916-45c2-87f8-9d2f443f11fc",
   "metadata": {},
   "outputs": [
    {
     "name": "stdout",
     "output_type": "stream",
     "text": [
      "\n",
      "Results on Short Sequences:\n",
      "Loss: 0.3914, Accuracy: 0.8441\n",
      "\n",
      "Results on Long Sequences:\n",
      "Loss: 0.3239, Accuracy: 0.8646\n"
     ]
    }
   ],
   "source": [
    "print(\"\\nResults on Short Sequences:\")\n",
    "print(f\"Loss: {loss_short:.4f}, Accuracy: {accuracy_short:.4f}\")\n",
    "\n",
    "print(\"\\nResults on Long Sequences:\")\n",
    "print(f\"Loss: {loss_long:.4f}, Accuracy: {accuracy_long:.4f}\")"
   ]
  },
  {
   "cell_type": "markdown",
   "id": "3f4905a9-1ae4-4e19-87e4-73fedf1bb2a0",
   "metadata": {},
   "source": [
    "# Conclusión\n",
    "\n",
    "## el acuracy en los tres casos es virtualmente igual\n",
    "\n",
    "## Elman \n",
    "\n",
    "Results on Short Sequences:\n",
    "Loss: 0.3871, Accuracy: 0.8386\n",
    "\n",
    "Results on Long Sequences:\n",
    "Loss: 0.3290, Accuracy: 0.8616\n",
    "\n",
    "## Jordan \n",
    "\n",
    "Results on Short Sequences:\n",
    "Loss: 0.4302, Accuracy: 0.8244\n",
    "\n",
    "Results on Long Sequences:\n",
    "Loss: 0.3431, Accuracy: 0.8632\n",
    "\n",
    "## Bidireccional\n",
    "\n",
    "Results on Short Sequences:\n",
    "Loss: 0.3914, Accuracy: 0.8441\n",
    "\n",
    "Results on Long Sequences:\n",
    "Loss: 0.3239, Accuracy: 0.8646\n",
    "\n",
    "\n",
    "### La unica diferencia es que en el modelo Jordan había que retornar la secuencia y generaba un error si no se le colocaba false, para solucionar este error se decidió reducir la secuencia de las palabras  a una sola presentación antes de pasarlas a la capa de clasificación final, para esto se importó GlobalMaxPooling1D.\n",
    "\n",
    "\n"
   ]
  },
  {
   "cell_type": "code",
   "execution_count": null,
   "id": "c0cd3f08-a3a7-488d-a795-9d80c17c1628",
   "metadata": {},
   "outputs": [],
   "source": []
  }
 ],
 "metadata": {
  "kernelspec": {
   "display_name": "Python 3 (ipykernel)",
   "language": "python",
   "name": "python3"
  },
  "language_info": {
   "codemirror_mode": {
    "name": "ipython",
    "version": 3
   },
   "file_extension": ".py",
   "mimetype": "text/x-python",
   "name": "python",
   "nbconvert_exporter": "python",
   "pygments_lexer": "ipython3",
   "version": "3.10.9"
  }
 },
 "nbformat": 4,
 "nbformat_minor": 5
}
