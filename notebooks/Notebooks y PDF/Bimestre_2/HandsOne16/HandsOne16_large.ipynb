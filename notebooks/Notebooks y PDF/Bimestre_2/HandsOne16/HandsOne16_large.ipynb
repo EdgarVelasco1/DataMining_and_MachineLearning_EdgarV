{
 "cells": [
  {
   "cell_type": "markdown",
   "id": "c8aa6e60-9950-43a8-910d-423504c38269",
   "metadata": {},
   "source": [
    "# GPT-2 Large"
   ]
  },
  {
   "cell_type": "code",
   "execution_count": 1,
   "id": "fba56965-a893-43fc-9004-dfe11a58860c",
   "metadata": {},
   "outputs": [
    {
     "name": "stdout",
     "output_type": "stream",
     "text": [
      "listo\n"
     ]
    }
   ],
   "source": [
    "from transformers import GPT2LMHeadModel, GPT2Tokenizer\n",
    "\n",
    "model_name = 'gpt2-large'  # You can start with 'gpt2' (large) and then experiment with larger models\n",
    "model = GPT2LMHeadModel.from_pretrained(model_name)\n",
    "tokenizer = GPT2Tokenizer.from_pretrained(model_name)\n",
    "print(\"listo\")"
   ]
  },
  {
   "cell_type": "markdown",
   "id": "35463c8b-cf8a-4281-b6b3-f14dab1b0bd3",
   "metadata": {},
   "source": [
    "### definir la función generate creative content"
   ]
  },
  {
   "cell_type": "code",
   "execution_count": 2,
   "id": "90d3dfef-f6b1-4d12-ad64-1dc3c92fdf7e",
   "metadata": {},
   "outputs": [
    {
     "name": "stdout",
     "output_type": "stream",
     "text": [
      "listo\n"
     ]
    }
   ],
   "source": [
    "def generate_creative_content(prompt, max_length=200, temperature=1.0):\n",
    "    \"\"\"Generate creative content using GPT-2 based on a given prompt.\"\"\"\n",
    "\n",
    "    # Encode the prompt\n",
    "    input_ids = tokenizer.encode(prompt, return_tensors='pt')\n",
    "\n",
    "    # Generate text\n",
    "    output = model.generate(input_ids, max_length=max_length, temperature=temperature, pad_token_id=tokenizer.eos_token_id)\n",
    "\n",
    "    # Decode and print the generated text\n",
    "    generated_text = tokenizer.decode(output[:, input_ids.shape[-1]:][0], skip_special_tokens=True)\n",
    "    \n",
    "    return  generated_text\n",
    "\n",
    "print(\"listo\")"
   ]
  },
  {
   "cell_type": "markdown",
   "id": "6dbb66d4-2432-4e6c-80e3-db02d733b41d",
   "metadata": {},
   "source": [
    "### Usar varios promps para probar la capacidad creativa de GPT-2"
   ]
  },
  {
   "cell_type": "code",
   "execution_count": 3,
   "id": "fa926e94-fc1c-47cd-bb8a-4abfe944845e",
   "metadata": {},
   "outputs": [
    {
     "name": "stdout",
     "output_type": "stream",
     "text": [
      "Prompt: where is babylon\n",
      "?\n",
      "\n",
      "The answer is that the city of Babylon was destroyed by the Babylonians in 607 B.C.E.\n",
      "\n",
      "The city of Babylon was destroyed by the Babylonians in 607 B.C.E.\n",
      "\n",
      "The city of Babylon was destroyed by the Babylonians in 607 B.C.E.\n",
      "\n",
      "The city of Babylon was destroyed by the Babylonians in 607 B.C.E.\n",
      "\n",
      "The city of Babylon was destroyed by the Babylonians in 607 B.C.E.\n",
      "\n",
      "The city of Babylon was destroyed by the Babylonians in 607 B.C.E.\n",
      "\n",
      "The city of Babylon was destroyed by the Babylonians in 607 B.C.E.\n",
      "\n",
      "The city of Babylon was destroyed by the Babylonians in 607 B.C.E.\n",
      "\n",
      "The city of Babylon was destroyed by the Babylonians in 607 B.C.E.\n",
      "\n",
      "\n",
      "\n",
      "--------------------------------------------------\n",
      "\n",
      "Prompt: Once upon a time, in a kingdom far away,\n",
      " the king and queen were blessed with a beautiful baby girl. Ever since that day, the princess has been growing up in a world of magic and adventure. But one day, the king and queen are kidnapped by a band of thieves. Now, the princess must find her way home and save her kingdom.\n",
      "\n",
      "The game is set in a fantasy world where the player controls a young girl named Princess Zelda. The game is set in a fantasy world where the player controls a young girl named Princess Zelda. The game is set in a fantasy world where the player controls a young girl named Princess Zelda. The game is set in a fantasy world where the player controls a young girl named Princess Zelda. The game is set in a fantasy world where the player controls a young girl named Princess Zelda. The game is set in a fantasy world where the player controls a young girl named Princess Zelda. The game is set in a fantasy world where the player controls\n",
      "\n",
      "--------------------------------------------------\n",
      "\n",
      "Prompt: In a dystopian future, where AI rules the world,\n",
      " the only way to survive is to become a super-soldier.\n",
      "\n",
      "The game is set in a future where the world is ruled by a super-intelligence called the AI. The AI is a powerful and intelligent being that has been created by the government to protect the world from the threat of a super-intelligence.\n",
      "\n",
      "The game is set in a dystopian future where the world is ruled by a super-intelligence called the AI. The AI is a powerful and intelligent being that has been created by the government to protect the world from the threat of a super-intelligence.\n",
      "\n",
      "The game is set in a dystopian future where the world is ruled by a super-intelligence called the AI. The AI is a powerful and intelligent being that has been created by the government to protect the world from the threat of a super-intelligence.\n",
      "\n",
      "The game is set in a dystopian future where the world is ruled by a super-intelligence\n",
      "\n",
      "--------------------------------------------------\n",
      "\n",
      "Prompt: The last dinosaur on Earth was not like the others. It\n",
      " was a giant, long-necked, long-necked, long-necked, long-necked, long-necked, long-necked, long-necked, long-necked, long-necked, long-necked, long-necked, long-necked, long-necked, long-necked, long-necked, long-necked, long-necked, long-necked, long-necked, long-necked, long-necked, long-necked, long-necked, long-necked, long-necked, long-necked, long-necked, long-necked, long-necked, long-necked, long-necked, long-necked, long-necked, long-necked, long-necked, long-necked, long-necked\n",
      "\n",
      "--------------------------------------------------\n",
      "\n",
      "Prompt: Deep beneath the ocean waves, a secret civilization\n",
      " has been building a massive, underground city. The city is called the City of the Dead, and it is home to a mysterious race of undead. The city is a living, breathing, breathing city, and it is the only place in the world where the dead can live. The City of the Dead is a living, breathing, breathing city. It is a living, breathing, breathing city. It is a living, breathing, breathing city. It is a living, breathing, breathing city. It is a living, breathing, breathing city. It is a living, breathing, breathing city. It is a living, breathing, breathing city. It is a living, breathing, breathing city. It is a living, breathing, breathing city. It is a living, breathing, breathing city. It is a living, breathing, breathing city. It is a living, breathing, breathing city. It is a living, breathing, breathing city. It\n",
      "\n",
      "--------------------------------------------------\n",
      "\n"
     ]
    }
   ],
   "source": [
    "prompts = [\n",
    "    \"where is babylon\",\n",
    "    \"Once upon a time, in a kingdom far away,\",\n",
    "    \"In a dystopian future, where AI rules the world,\",\n",
    "    \"The last dinosaur on Earth was not like the others. It\",\n",
    "    \"Deep beneath the ocean waves, a secret civilization\"\n",
    "]\n",
    "\n",
    "for prompt in prompts:\n",
    "    print(f\"Prompt: {prompt}\")\n",
    "    print(generate_creative_content(prompt))\n",
    "    print(\"\\n\" + \"-\"*50 + \"\\n\")"
   ]
  },
  {
   "cell_type": "code",
   "execution_count": null,
   "id": "48ad2ae1-9afd-4412-8beb-65185a4e5593",
   "metadata": {},
   "outputs": [],
   "source": []
  }
 ],
 "metadata": {
  "kernelspec": {
   "display_name": "Python 3 (ipykernel)",
   "language": "python",
   "name": "python3"
  },
  "language_info": {
   "codemirror_mode": {
    "name": "ipython",
    "version": 3
   },
   "file_extension": ".py",
   "mimetype": "text/x-python",
   "name": "python",
   "nbconvert_exporter": "python",
   "pygments_lexer": "ipython3",
   "version": "3.10.9"
  }
 },
 "nbformat": 4,
 "nbformat_minor": 5
}
